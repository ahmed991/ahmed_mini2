{
 "cells": [
  {
   "cell_type": "markdown",
   "metadata": {},
   "source": [
    "# Distributed Computing with Dask: Step-by-step Exercise\n",
    "\n",
    "Mahdi Farnaghi and Mahdi Khodadadzadeh\n",
    "\n",
    "October 2024\n",
    "\n",
    "\n",
    "**Objective: Explore distributed computing concepts using Dask for Exploratory Data Analysis (EDA).**"
   ]
  },
  {
   "cell_type": "markdown",
   "metadata": {},
   "source": [
    "## Dataset\n",
    "\n",
    "### Description \n",
    "\n",
    "In this exercise, we will be using the **Iris dataset**, one of the most well-known datasets in data science. The Iris dataset contains 150 samples from three species of Iris flowers: *Iris setosa*, *Iris virginica*, and *Iris versicolor*. Each sample has four features:\n",
    "\n",
    "1. **Sepal length** (in cm)\n",
    "2. **Sepal width** (in cm)\n",
    "3. **Petal length** (in cm)\n",
    "4. **Petal width** (in cm)\n",
    "\n",
    "These features describe the physical characteristics of the flowers, which are used to classify the species. The dataset is widely used for classification tasks and exploratory data analysis (EDA).\n",
    "\n",
    "---\n",
    "\n",
    "### Dataset Columns:\n",
    "\n",
    "- **sepal length**: Length of the sepal (in cm).\n",
    "- **sepal width**: Width of the sepal (in cm).\n",
    "- **petal length**: Length of the petal (in cm).\n",
    "- **petal width**: Width of the petal (in cm).\n",
    "- **species**: The species of the Iris flower (*Iris setosa*, *Iris virginica*, or *Iris versicolor*).\n",
    "\n",
    "---\n",
    "\n",
    "We will use this dataset to explore how Dask can be applied to distributed computing tasks for data analysis.\n",
    "\n",
    "---"
   ]
  },
  {
   "cell_type": "markdown",
   "metadata": {},
   "source": [
    "## Installation"
   ]
  },
  {
   "cell_type": "code",
   "execution_count": null,
   "metadata": {},
   "outputs": [],
   "source": [
    "# !pip install \"dask[distributed]\" --upgrade \n",
    "# !pip install dask[dataframe]\n",
    "# !pip install scipy"
   ]
  },
  {
   "cell_type": "markdown",
   "metadata": {},
   "source": [
    "## Step 1: Setting up the Dask Client\n",
    "\n",
    "Task: Initialize a Dask Client to enable parallel and distributed computing."
   ]
  },
  {
   "cell_type": "code",
   "execution_count": 1,
   "metadata": {},
   "outputs": [],
   "source": [
    "from dask.distributed import Client\n",
    "import dask.dataframe as dd\n",
    "\n",
    "#Configuring Dask Client, setting number of workers, thread and limit memory\n",
    "client = Client(n_workers=8, threads_per_worker=2, memory_limit=\"16GB\")\n"
   ]
  },
  {
   "cell_type": "code",
   "execution_count": 2,
   "metadata": {},
   "outputs": [],
   "source": [
    "import warnings\n",
    "warnings.filterwarnings('ignore')"
   ]
  },
  {
   "cell_type": "markdown",
   "metadata": {},
   "source": [
    "## Step 2: Load the dataset using Dask\n",
    "\n",
    "Task: Load the Iris dataset using `dask.read_csv`.\n",
    "\n",
    "Instruction: Use Dask's `read_csv` to load the Iris dataset. This is similar to how you use `pandas.read_csv`. Print the first 5 rows of the dataset."
   ]
  },
  {
   "cell_type": "code",
   "execution_count": 3,
   "metadata": {},
   "outputs": [],
   "source": [
    "data = dd.read_csv('EDA_iris.txt',header=0)"
   ]
  },
  {
   "cell_type": "code",
   "execution_count": 4,
   "metadata": {},
   "outputs": [
    {
     "data": {
      "text/html": [
       "<div>\n",
       "<style scoped>\n",
       "    .dataframe tbody tr th:only-of-type {\n",
       "        vertical-align: middle;\n",
       "    }\n",
       "\n",
       "    .dataframe tbody tr th {\n",
       "        vertical-align: top;\n",
       "    }\n",
       "\n",
       "    .dataframe thead th {\n",
       "        text-align: right;\n",
       "    }\n",
       "</style>\n",
       "<table border=\"1\" class=\"dataframe\">\n",
       "  <thead>\n",
       "    <tr style=\"text-align: right;\">\n",
       "      <th></th>\n",
       "      <th>sepal_length</th>\n",
       "      <th>sepal_width</th>\n",
       "      <th>petal_length</th>\n",
       "      <th>petal_width</th>\n",
       "      <th>species</th>\n",
       "    </tr>\n",
       "  </thead>\n",
       "  <tbody>\n",
       "    <tr>\n",
       "      <th>0</th>\n",
       "      <td>5.1</td>\n",
       "      <td>3.5</td>\n",
       "      <td>1.4</td>\n",
       "      <td>0.2</td>\n",
       "      <td>Iris-setosa</td>\n",
       "    </tr>\n",
       "    <tr>\n",
       "      <th>1</th>\n",
       "      <td>4.9</td>\n",
       "      <td>3.0</td>\n",
       "      <td>1.4</td>\n",
       "      <td>0.2</td>\n",
       "      <td>Iris-setosa</td>\n",
       "    </tr>\n",
       "    <tr>\n",
       "      <th>2</th>\n",
       "      <td>4.7</td>\n",
       "      <td>3.2</td>\n",
       "      <td>1.3</td>\n",
       "      <td>0.2</td>\n",
       "      <td>Iris-setosa</td>\n",
       "    </tr>\n",
       "    <tr>\n",
       "      <th>3</th>\n",
       "      <td>4.6</td>\n",
       "      <td>3.1</td>\n",
       "      <td>1.5</td>\n",
       "      <td>0.2</td>\n",
       "      <td>Iris-setosa</td>\n",
       "    </tr>\n",
       "    <tr>\n",
       "      <th>4</th>\n",
       "      <td>5.0</td>\n",
       "      <td>3.6</td>\n",
       "      <td>1.4</td>\n",
       "      <td>0.2</td>\n",
       "      <td>Iris-setosa</td>\n",
       "    </tr>\n",
       "  </tbody>\n",
       "</table>\n",
       "</div>"
      ],
      "text/plain": [
       "   sepal_length  sepal_width  petal_length  petal_width      species\n",
       "0           5.1          3.5           1.4          0.2  Iris-setosa\n",
       "1           4.9          3.0           1.4          0.2  Iris-setosa\n",
       "2           4.7          3.2           1.3          0.2  Iris-setosa\n",
       "3           4.6          3.1           1.5          0.2  Iris-setosa\n",
       "4           5.0          3.6           1.4          0.2  Iris-setosa"
      ]
     },
     "execution_count": 4,
     "metadata": {},
     "output_type": "execute_result"
    }
   ],
   "source": [
    "data.head(5)"
   ]
  },
  {
   "cell_type": "markdown",
   "metadata": {},
   "source": [
    "## Step 3: Set the Index\n",
    "\n",
    "Task: Set the species as the index for the dataframe.\n",
    "\n",
    "Instruction: Change the index of the dataframe to 'species' and check how the dataset looks after the change."
   ]
  },
  {
   "cell_type": "code",
   "execution_count": 5,
   "metadata": {},
   "outputs": [
    {
     "data": {
      "text/html": [
       "<div>\n",
       "<style scoped>\n",
       "    .dataframe tbody tr th:only-of-type {\n",
       "        vertical-align: middle;\n",
       "    }\n",
       "\n",
       "    .dataframe tbody tr th {\n",
       "        vertical-align: top;\n",
       "    }\n",
       "\n",
       "    .dataframe thead th {\n",
       "        text-align: right;\n",
       "    }\n",
       "</style>\n",
       "<table border=\"1\" class=\"dataframe\">\n",
       "  <thead>\n",
       "    <tr style=\"text-align: right;\">\n",
       "      <th></th>\n",
       "      <th>sepal_length</th>\n",
       "      <th>sepal_width</th>\n",
       "      <th>petal_length</th>\n",
       "      <th>petal_width</th>\n",
       "    </tr>\n",
       "    <tr>\n",
       "      <th>species</th>\n",
       "      <th></th>\n",
       "      <th></th>\n",
       "      <th></th>\n",
       "      <th></th>\n",
       "    </tr>\n",
       "  </thead>\n",
       "  <tbody>\n",
       "    <tr>\n",
       "      <th>Iris-setosa</th>\n",
       "      <td>5.1</td>\n",
       "      <td>3.5</td>\n",
       "      <td>1.4</td>\n",
       "      <td>0.2</td>\n",
       "    </tr>\n",
       "    <tr>\n",
       "      <th>Iris-setosa</th>\n",
       "      <td>4.9</td>\n",
       "      <td>3.0</td>\n",
       "      <td>1.4</td>\n",
       "      <td>0.2</td>\n",
       "    </tr>\n",
       "    <tr>\n",
       "      <th>Iris-setosa</th>\n",
       "      <td>4.7</td>\n",
       "      <td>3.2</td>\n",
       "      <td>1.3</td>\n",
       "      <td>0.2</td>\n",
       "    </tr>\n",
       "    <tr>\n",
       "      <th>Iris-setosa</th>\n",
       "      <td>4.6</td>\n",
       "      <td>3.1</td>\n",
       "      <td>1.5</td>\n",
       "      <td>0.2</td>\n",
       "    </tr>\n",
       "    <tr>\n",
       "      <th>Iris-setosa</th>\n",
       "      <td>5.0</td>\n",
       "      <td>3.6</td>\n",
       "      <td>1.4</td>\n",
       "      <td>0.2</td>\n",
       "    </tr>\n",
       "  </tbody>\n",
       "</table>\n",
       "</div>"
      ],
      "text/plain": [
       "             sepal_length  sepal_width  petal_length  petal_width\n",
       "species                                                          \n",
       "Iris-setosa           5.1          3.5           1.4          0.2\n",
       "Iris-setosa           4.9          3.0           1.4          0.2\n",
       "Iris-setosa           4.7          3.2           1.3          0.2\n",
       "Iris-setosa           4.6          3.1           1.5          0.2\n",
       "Iris-setosa           5.0          3.6           1.4          0.2"
      ]
     },
     "execution_count": 5,
     "metadata": {},
     "output_type": "execute_result"
    }
   ],
   "source": [
    "data = data.set_index('species')\n",
    "data.head(5)"
   ]
  },
  {
   "cell_type": "markdown",
   "metadata": {},
   "source": [
    "## Step 6: Getting Data Information\n",
    "\n",
    "Task: Retrieve information about the dataframe's columns and types.\n",
    "\n",
    "Instruction: Use .info() to explore the dataframe's structure."
   ]
  },
  {
   "cell_type": "code",
   "execution_count": 6,
   "metadata": {},
   "outputs": [
    {
     "name": "stdout",
     "output_type": "stream",
     "text": [
      "<class 'dask.dataframe.core.DataFrame'>\n",
      "Columns: 4 entries, sepal_length to petal_width\n",
      "dtypes: float64(4)"
     ]
    }
   ],
   "source": [
    "data.info()"
   ]
  },
  {
   "cell_type": "code",
   "execution_count": 7,
   "metadata": {},
   "outputs": [
    {
     "name": "stdout",
     "output_type": "stream",
     "text": [
      "Index(['sepal_length', 'sepal_width', 'petal_length', 'petal_width'], dtype='object')\n"
     ]
    }
   ],
   "source": [
    "print(data.columns)\n"
   ]
  },
  {
   "cell_type": "markdown",
   "metadata": {},
   "source": [
    "Task: Compute descriptive statistics for the dataset.\n",
    "\n",
    "Instruction: Use .describe() to calculate statistics for each column and ensure that you trigger computation with .compute()."
   ]
  },
  {
   "cell_type": "code",
   "execution_count": 8,
   "metadata": {},
   "outputs": [
    {
     "data": {
      "text/html": [
       "<div>\n",
       "<style scoped>\n",
       "    .dataframe tbody tr th:only-of-type {\n",
       "        vertical-align: middle;\n",
       "    }\n",
       "\n",
       "    .dataframe tbody tr th {\n",
       "        vertical-align: top;\n",
       "    }\n",
       "\n",
       "    .dataframe thead th {\n",
       "        text-align: right;\n",
       "    }\n",
       "</style>\n",
       "<table border=\"1\" class=\"dataframe\">\n",
       "  <thead>\n",
       "    <tr style=\"text-align: right;\">\n",
       "      <th></th>\n",
       "      <th>sepal_length</th>\n",
       "      <th>sepal_width</th>\n",
       "      <th>petal_length</th>\n",
       "      <th>petal_width</th>\n",
       "    </tr>\n",
       "  </thead>\n",
       "  <tbody>\n",
       "    <tr>\n",
       "      <th>count</th>\n",
       "      <td>150.000000</td>\n",
       "      <td>150.000000</td>\n",
       "      <td>150.000000</td>\n",
       "      <td>150.000000</td>\n",
       "    </tr>\n",
       "    <tr>\n",
       "      <th>mean</th>\n",
       "      <td>5.843333</td>\n",
       "      <td>3.054000</td>\n",
       "      <td>3.758667</td>\n",
       "      <td>1.198667</td>\n",
       "    </tr>\n",
       "    <tr>\n",
       "      <th>std</th>\n",
       "      <td>0.828066</td>\n",
       "      <td>0.433594</td>\n",
       "      <td>1.764420</td>\n",
       "      <td>0.763161</td>\n",
       "    </tr>\n",
       "    <tr>\n",
       "      <th>min</th>\n",
       "      <td>4.300000</td>\n",
       "      <td>2.000000</td>\n",
       "      <td>1.000000</td>\n",
       "      <td>0.100000</td>\n",
       "    </tr>\n",
       "    <tr>\n",
       "      <th>25%</th>\n",
       "      <td>5.100000</td>\n",
       "      <td>2.800000</td>\n",
       "      <td>1.600000</td>\n",
       "      <td>0.300000</td>\n",
       "    </tr>\n",
       "    <tr>\n",
       "      <th>50%</th>\n",
       "      <td>5.800000</td>\n",
       "      <td>3.000000</td>\n",
       "      <td>4.350000</td>\n",
       "      <td>1.300000</td>\n",
       "    </tr>\n",
       "    <tr>\n",
       "      <th>75%</th>\n",
       "      <td>6.400000</td>\n",
       "      <td>3.300000</td>\n",
       "      <td>5.100000</td>\n",
       "      <td>1.800000</td>\n",
       "    </tr>\n",
       "    <tr>\n",
       "      <th>max</th>\n",
       "      <td>7.900000</td>\n",
       "      <td>4.400000</td>\n",
       "      <td>6.900000</td>\n",
       "      <td>2.500000</td>\n",
       "    </tr>\n",
       "  </tbody>\n",
       "</table>\n",
       "</div>"
      ],
      "text/plain": [
       "       sepal_length  sepal_width  petal_length  petal_width\n",
       "count    150.000000   150.000000    150.000000   150.000000\n",
       "mean       5.843333     3.054000      3.758667     1.198667\n",
       "std        0.828066     0.433594      1.764420     0.763161\n",
       "min        4.300000     2.000000      1.000000     0.100000\n",
       "25%        5.100000     2.800000      1.600000     0.300000\n",
       "50%        5.800000     3.000000      4.350000     1.300000\n",
       "75%        6.400000     3.300000      5.100000     1.800000\n",
       "max        7.900000     4.400000      6.900000     2.500000"
      ]
     },
     "execution_count": 8,
     "metadata": {},
     "output_type": "execute_result"
    }
   ],
   "source": [
    "data.describe().compute()"
   ]
  },
  {
   "cell_type": "markdown",
   "metadata": {},
   "source": [
    "## Step 4: Slicing the Dataset\n",
    "\n",
    "Task: Perform slicing on the dataframe to select specific rows.\n",
    "\n",
    "Instruction: Select a few rows from the dataframe and compute them using Dask's parallel computation."
   ]
  },
  {
   "cell_type": "code",
   "execution_count": 9,
   "metadata": {},
   "outputs": [
    {
     "data": {
      "text/html": [
       "<div>\n",
       "<style scoped>\n",
       "    .dataframe tbody tr th:only-of-type {\n",
       "        vertical-align: middle;\n",
       "    }\n",
       "\n",
       "    .dataframe tbody tr th {\n",
       "        vertical-align: top;\n",
       "    }\n",
       "\n",
       "    .dataframe thead th {\n",
       "        text-align: right;\n",
       "    }\n",
       "</style>\n",
       "<table border=\"1\" class=\"dataframe\">\n",
       "  <thead>\n",
       "    <tr style=\"text-align: right;\">\n",
       "      <th></th>\n",
       "      <th>sepal_length</th>\n",
       "      <th>sepal_width</th>\n",
       "      <th>petal_length</th>\n",
       "      <th>petal_width</th>\n",
       "    </tr>\n",
       "    <tr>\n",
       "      <th>species</th>\n",
       "      <th></th>\n",
       "      <th></th>\n",
       "      <th></th>\n",
       "      <th></th>\n",
       "    </tr>\n",
       "  </thead>\n",
       "  <tbody>\n",
       "    <tr>\n",
       "      <th>Iris-setosa</th>\n",
       "      <td>5.4</td>\n",
       "      <td>3.7</td>\n",
       "      <td>1.5</td>\n",
       "      <td>0.2</td>\n",
       "    </tr>\n",
       "    <tr>\n",
       "      <th>Iris-setosa</th>\n",
       "      <td>4.8</td>\n",
       "      <td>3.4</td>\n",
       "      <td>1.6</td>\n",
       "      <td>0.2</td>\n",
       "    </tr>\n",
       "    <tr>\n",
       "      <th>Iris-setosa</th>\n",
       "      <td>4.8</td>\n",
       "      <td>3.1</td>\n",
       "      <td>1.6</td>\n",
       "      <td>0.2</td>\n",
       "    </tr>\n",
       "    <tr>\n",
       "      <th>Iris-setosa</th>\n",
       "      <td>5.1</td>\n",
       "      <td>3.8</td>\n",
       "      <td>1.9</td>\n",
       "      <td>0.4</td>\n",
       "    </tr>\n",
       "    <tr>\n",
       "      <th>Iris-setosa</th>\n",
       "      <td>4.8</td>\n",
       "      <td>3.0</td>\n",
       "      <td>1.4</td>\n",
       "      <td>0.3</td>\n",
       "    </tr>\n",
       "    <tr>\n",
       "      <th>Iris-setosa</th>\n",
       "      <td>5.1</td>\n",
       "      <td>3.8</td>\n",
       "      <td>1.6</td>\n",
       "      <td>0.2</td>\n",
       "    </tr>\n",
       "    <tr>\n",
       "      <th>Iris-versicolor</th>\n",
       "      <td>5.0</td>\n",
       "      <td>2.3</td>\n",
       "      <td>3.3</td>\n",
       "      <td>1.0</td>\n",
       "    </tr>\n",
       "    <tr>\n",
       "      <th>Iris-virginica</th>\n",
       "      <td>6.4</td>\n",
       "      <td>3.1</td>\n",
       "      <td>5.5</td>\n",
       "      <td>1.8</td>\n",
       "    </tr>\n",
       "  </tbody>\n",
       "</table>\n",
       "</div>"
      ],
      "text/plain": [
       "                 sepal_length  sepal_width  petal_length  petal_width\n",
       "species                                                              \n",
       "Iris-setosa               5.4          3.7           1.5          0.2\n",
       "Iris-setosa               4.8          3.4           1.6          0.2\n",
       "Iris-setosa               4.8          3.1           1.6          0.2\n",
       "Iris-setosa               5.1          3.8           1.9          0.4\n",
       "Iris-setosa               4.8          3.0           1.4          0.3\n",
       "Iris-setosa               5.1          3.8           1.6          0.2\n",
       "Iris-versicolor           5.0          2.3           3.3          1.0\n",
       "Iris-virginica            6.4          3.1           5.5          1.8"
      ]
     },
     "execution_count": 9,
     "metadata": {},
     "output_type": "execute_result"
    }
   ],
   "source": [
    "#using the random split function of dask dataframe, we convert it into 3 to 97 split and take the first split entity which contains a few rows\n",
    "#Random state is to keep the results reproducable\n",
    "a,b=data.random_split([0.03,0.97],random_state = 123)\n",
    "a.compute()"
   ]
  },
  {
   "cell_type": "markdown",
   "metadata": {},
   "source": [
    "## Step 5: Mean, Quantiles, and Variance\n",
    "\n",
    "Task: Compute the mean, quantiles, and variance of the dataset.\n",
    "\n",
    "Instruction: Calculate the mean, quantiles, and variance of the dataset."
   ]
  },
  {
   "cell_type": "code",
   "execution_count": 10,
   "metadata": {},
   "outputs": [],
   "source": [
    "#Mean, variance and quantiles are builtin functions of pandas\n",
    "\n",
    "mean=data.mean().compute()\n",
    "variance=data.var().compute()\n",
    "quantile=data.quantile([0.25,0.5,0.75]).compute()\n"
   ]
  },
  {
   "cell_type": "code",
   "execution_count": 11,
   "metadata": {},
   "outputs": [
    {
     "name": "stdout",
     "output_type": "stream",
     "text": [
      "sepal_length    5.843333\n",
      "sepal_width     3.054000\n",
      "petal_length    3.758667\n",
      "petal_width     1.198667\n",
      "dtype: float64\n"
     ]
    }
   ],
   "source": [
    "print(mean)"
   ]
  },
  {
   "cell_type": "code",
   "execution_count": 12,
   "metadata": {},
   "outputs": [
    {
     "name": "stdout",
     "output_type": "stream",
     "text": [
      "sepal_length    0.685694\n",
      "sepal_width     0.188004\n",
      "petal_length    3.113179\n",
      "petal_width     0.582414\n",
      "dtype: float64\n"
     ]
    }
   ],
   "source": [
    "print(variance)"
   ]
  },
  {
   "cell_type": "code",
   "execution_count": 13,
   "metadata": {},
   "outputs": [
    {
     "name": "stdout",
     "output_type": "stream",
     "text": [
      "      sepal_length  sepal_width  petal_length  petal_width\n",
      "0.25           5.1          2.8          1.60          0.3\n",
      "0.50           5.8          3.0          4.35          1.3\n",
      "0.75           6.4          3.3          5.10          1.8\n"
     ]
    }
   ],
   "source": [
    "print(quantile)"
   ]
  },
  {
   "cell_type": "markdown",
   "metadata": {},
   "source": [
    "## Step 6: Data Visualization\n",
    "\n",
    "Task: Visualize the distribution of columns using histograms and density plots.\n",
    "\n",
    "Instruction: Plot the histogram and kernel density estimate (KDE) for the 'sepal length' column."
   ]
  },
  {
   "cell_type": "code",
   "execution_count": 14,
   "metadata": {},
   "outputs": [],
   "source": [
    "pip install hvplot\n"
   ]
  },
  {
   "cell_type": "code",
   "execution_count": 20,
   "metadata": {},
   "outputs": [],
   "source": [
    "#Selecting Sepal Length Column\n",
    "import hvplot.dask\n",
    "sepal_length = data['sepal_length']\n"
   ]
  },
  {
   "cell_type": "code",
   "execution_count": 26,
   "metadata": {},
   "outputs": [
    {
     "data": {},
     "metadata": {},
     "output_type": "display_data"
    },
    {
     "data": {
      "application/vnd.holoviews_exec.v0+json": "",
      "text/html": [
       "<div id='1450'>\n",
       "  <div class=\"bk-root\" id=\"c1f55636-3fe8-4b1f-a385-b10f070b3952\" data-root-id=\"1450\"></div>\n",
       "</div>\n",
       "<script type=\"application/javascript\">(function(root) {\n",
       "  function embed_document(root) {\n",
       "    var docs_json = {\"d9ab4115-b0bf-43c7-b85c-0605a5b38480\":{\"defs\":[{\"extends\":null,\"module\":null,\"name\":\"ReactiveHTML1\",\"overrides\":[],\"properties\":[]},{\"extends\":null,\"module\":null,\"name\":\"FlexBox1\",\"overrides\":[],\"properties\":[{\"default\":\"flex-start\",\"kind\":null,\"name\":\"align_content\"},{\"default\":\"flex-start\",\"kind\":null,\"name\":\"align_items\"},{\"default\":\"row\",\"kind\":null,\"name\":\"flex_direction\"},{\"default\":\"wrap\",\"kind\":null,\"name\":\"flex_wrap\"},{\"default\":\"flex-start\",\"kind\":null,\"name\":\"justify_content\"}]},{\"extends\":null,\"module\":null,\"name\":\"GridStack1\",\"overrides\":[],\"properties\":[{\"default\":\"warn\",\"kind\":null,\"name\":\"mode\"},{\"default\":null,\"kind\":null,\"name\":\"ncols\"},{\"default\":null,\"kind\":null,\"name\":\"nrows\"},{\"default\":true,\"kind\":null,\"name\":\"allow_resize\"},{\"default\":true,\"kind\":null,\"name\":\"allow_drag\"},{\"default\":[],\"kind\":null,\"name\":\"state\"}]},{\"extends\":null,\"module\":null,\"name\":\"click1\",\"overrides\":[],\"properties\":[{\"default\":\"\",\"kind\":null,\"name\":\"terminal_output\"},{\"default\":\"\",\"kind\":null,\"name\":\"debug_name\"},{\"default\":0,\"kind\":null,\"name\":\"clears\"}]},{\"extends\":null,\"module\":null,\"name\":\"NotificationAreaBase1\",\"overrides\":[],\"properties\":[{\"default\":\"bottom-right\",\"kind\":null,\"name\":\"position\"},{\"default\":0,\"kind\":null,\"name\":\"_clear\"}]},{\"extends\":null,\"module\":null,\"name\":\"NotificationArea1\",\"overrides\":[],\"properties\":[{\"default\":[],\"kind\":null,\"name\":\"notifications\"},{\"default\":\"bottom-right\",\"kind\":null,\"name\":\"position\"},{\"default\":0,\"kind\":null,\"name\":\"_clear\"},{\"default\":[{\"background\":\"#ffc107\",\"icon\":{\"className\":\"fas fa-exclamation-triangle\",\"color\":\"white\",\"tagName\":\"i\"},\"type\":\"warning\"},{\"background\":\"#007bff\",\"icon\":{\"className\":\"fas fa-info-circle\",\"color\":\"white\",\"tagName\":\"i\"},\"type\":\"info\"}],\"kind\":null,\"name\":\"types\"}]},{\"extends\":null,\"module\":null,\"name\":\"Notification\",\"overrides\":[],\"properties\":[{\"default\":null,\"kind\":null,\"name\":\"background\"},{\"default\":3000,\"kind\":null,\"name\":\"duration\"},{\"default\":null,\"kind\":null,\"name\":\"icon\"},{\"default\":\"\",\"kind\":null,\"name\":\"message\"},{\"default\":null,\"kind\":null,\"name\":\"notification_type\"},{\"default\":false,\"kind\":null,\"name\":\"_destroyed\"}]},{\"extends\":null,\"module\":null,\"name\":\"TemplateActions1\",\"overrides\":[],\"properties\":[{\"default\":0,\"kind\":null,\"name\":\"open_modal\"},{\"default\":0,\"kind\":null,\"name\":\"close_modal\"}]},{\"extends\":null,\"module\":null,\"name\":\"MaterialTemplateActions1\",\"overrides\":[],\"properties\":[{\"default\":0,\"kind\":null,\"name\":\"open_modal\"},{\"default\":0,\"kind\":null,\"name\":\"close_modal\"}]}],\"roots\":{\"references\":[{\"attributes\":{\"axis_label\":\"sepal_length\",\"coordinates\":null,\"formatter\":{\"id\":\"1495\"},\"group\":null,\"major_label_policy\":{\"id\":\"1496\"},\"ticker\":{\"id\":\"1465\"}},\"id\":\"1464\",\"type\":\"LinearAxis\"},{\"attributes\":{\"callback\":null,\"renderers\":[{\"id\":\"1491\"}],\"tags\":[\"hv_created\"],\"tooltips\":[[\"sepal_length\",\"@{sepal_length}\"],[\"Count\",\"@{sepal_length_count}\"]]},\"id\":\"1454\",\"type\":\"HoverTool\"},{\"attributes\":{},\"id\":\"1469\",\"type\":\"BasicTicker\"},{\"attributes\":{\"bottom\":{\"value\":0},\"fill_color\":{\"value\":\"#30a2da\"},\"hatch_color\":{\"value\":\"#30a2da\"},\"left\":{\"field\":\"left\"},\"right\":{\"field\":\"right\"},\"top\":{\"field\":\"top\"}},\"id\":\"1488\",\"type\":\"Quad\"},{\"attributes\":{\"axis_label\":\"\",\"coordinates\":null,\"formatter\":{\"id\":\"1498\"},\"group\":null,\"major_label_policy\":{\"id\":\"1499\"},\"ticker\":{\"id\":\"1469\"}},\"id\":\"1468\",\"type\":\"LinearAxis\"},{\"attributes\":{\"data\":{\"left\":{\"__ndarray__\":\"MzMzMzMzEUCkcD0K16MSQBSuR+F6FBRAhetRuB6FFUD2KFyPwvUWQGZmZmZmZhhA16NwPQrXGUBI4XoUrkcbQLgehetRuBxAKVyPwvUoHkA=\",\"dtype\":\"float64\",\"order\":\"little\",\"shape\":[10]},\"right\":{\"__ndarray__\":\"pHA9CtejEkAUrkfhehQUQIXrUbgehRVA9ihcj8L1FkBmZmZmZmYYQNejcD0K1xlASOF6FK5HG0C4HoXrUbgcQClcj8L1KB5AmpmZmZmZH0A=\",\"dtype\":\"float64\",\"order\":\"little\",\"shape\":[10]},\"sepal_length\":{\"__ndarray__\":\"7FG4HoXrEUBcj8L1KFwTQMzMzMzMzBRAPgrXo3A9FkCuR+F6FK4XQB6F61G4HhlAkML1KFyPGkAAAAAAAAAcQHA9CtejcB1A4noUrkfhHkA=\",\"dtype\":\"float64\",\"order\":\"little\",\"shape\":[10]},\"sepal_length_count\":[9,23,14,27,16,26,18,6,5,6],\"top\":[9,23,14,27,16,26,18,6,5,6]},\"selected\":{\"id\":\"1486\"},\"selection_policy\":{\"id\":\"1507\"}},\"id\":\"1485\",\"type\":\"ColumnDataSource\"},{\"attributes\":{\"bottom\":{\"value\":0},\"fill_alpha\":{\"value\":0.1},\"fill_color\":{\"value\":\"#30a2da\"},\"hatch_alpha\":{\"value\":0.1},\"hatch_color\":{\"value\":\"#30a2da\"},\"left\":{\"field\":\"left\"},\"line_alpha\":{\"value\":0.1},\"right\":{\"field\":\"right\"},\"top\":{\"field\":\"top\"}},\"id\":\"1489\",\"type\":\"Quad\"},{\"attributes\":{\"end\":8.054285714285715,\"reset_end\":8.054285714285715,\"reset_start\":4.145714285714286,\"start\":4.145714285714286,\"tags\":[[[\"sepal_length\",\"sepal_length\",null]]]},\"id\":\"1452\",\"type\":\"Range1d\"},{\"attributes\":{\"overlay\":{\"id\":\"1477\"}},\"id\":\"1475\",\"type\":\"BoxZoomTool\"},{\"attributes\":{\"axis\":{\"id\":\"1464\"},\"coordinates\":null,\"grid_line_color\":null,\"group\":null,\"ticker\":null},\"id\":\"1467\",\"type\":\"Grid\"},{\"attributes\":{\"margin\":[5,5,5,5],\"name\":\"HSpacer01391\",\"sizing_mode\":\"stretch_width\"},\"id\":\"1510\",\"type\":\"Spacer\"},{\"attributes\":{},\"id\":\"1465\",\"type\":\"BasicTicker\"},{\"attributes\":{},\"id\":\"1476\",\"type\":\"ResetTool\"},{\"attributes\":{\"coordinates\":null,\"data_source\":{\"id\":\"1485\"},\"glyph\":{\"id\":\"1488\"},\"group\":null,\"hover_glyph\":null,\"muted_glyph\":{\"id\":\"1490\"},\"nonselection_glyph\":{\"id\":\"1489\"},\"selection_glyph\":{\"id\":\"1493\"},\"view\":{\"id\":\"1492\"}},\"id\":\"1491\",\"type\":\"GlyphRenderer\"},{\"attributes\":{},\"id\":\"1495\",\"type\":\"BasicTickFormatter\"},{\"attributes\":{},\"id\":\"1486\",\"type\":\"Selection\"},{\"attributes\":{\"coordinates\":null,\"group\":null,\"text_color\":\"black\",\"text_font_size\":\"12pt\"},\"id\":\"1456\",\"type\":\"Title\"},{\"attributes\":{},\"id\":\"1499\",\"type\":\"AllLabels\"},{\"attributes\":{},\"id\":\"1473\",\"type\":\"PanTool\"},{\"attributes\":{\"tools\":[{\"id\":\"1454\"},{\"id\":\"1472\"},{\"id\":\"1473\"},{\"id\":\"1474\"},{\"id\":\"1475\"},{\"id\":\"1476\"}]},\"id\":\"1478\",\"type\":\"Toolbar\"},{\"attributes\":{\"end\":29.2,\"reset_end\":29.2,\"reset_start\":0.0,\"tags\":[[[\"sepal_length_count\",\"Count\",null]]]},\"id\":\"1453\",\"type\":\"Range1d\"},{\"attributes\":{\"source\":{\"id\":\"1485\"}},\"id\":\"1492\",\"type\":\"CDSView\"},{\"attributes\":{\"axis\":{\"id\":\"1468\"},\"coordinates\":null,\"dimension\":1,\"grid_line_color\":null,\"group\":null,\"ticker\":null},\"id\":\"1471\",\"type\":\"Grid\"},{\"attributes\":{},\"id\":\"1462\",\"type\":\"LinearScale\"},{\"attributes\":{},\"id\":\"1507\",\"type\":\"UnionRenderers\"},{\"attributes\":{},\"id\":\"1460\",\"type\":\"LinearScale\"},{\"attributes\":{\"below\":[{\"id\":\"1464\"}],\"center\":[{\"id\":\"1467\"},{\"id\":\"1471\"}],\"height\":300,\"left\":[{\"id\":\"1468\"}],\"margin\":[5,5,5,5],\"min_border_bottom\":10,\"min_border_left\":10,\"min_border_right\":10,\"min_border_top\":10,\"renderers\":[{\"id\":\"1491\"}],\"sizing_mode\":\"fixed\",\"title\":{\"id\":\"1456\"},\"toolbar\":{\"id\":\"1478\"},\"width\":700,\"x_range\":{\"id\":\"1452\"},\"x_scale\":{\"id\":\"1460\"},\"y_range\":{\"id\":\"1453\"},\"y_scale\":{\"id\":\"1462\"}},\"id\":\"1455\",\"subtype\":\"Figure\",\"type\":\"Plot\"},{\"attributes\":{},\"id\":\"1498\",\"type\":\"BasicTickFormatter\"},{\"attributes\":{\"bottom_units\":\"screen\",\"coordinates\":null,\"fill_alpha\":0.5,\"fill_color\":\"lightgrey\",\"group\":null,\"left_units\":\"screen\",\"level\":\"overlay\",\"line_alpha\":1.0,\"line_color\":\"black\",\"line_dash\":[4,4],\"line_width\":2,\"right_units\":\"screen\",\"syncable\":false,\"top_units\":\"screen\"},\"id\":\"1477\",\"type\":\"BoxAnnotation\"},{\"attributes\":{},\"id\":\"1472\",\"type\":\"SaveTool\"},{\"attributes\":{\"bottom\":{\"value\":0},\"fill_alpha\":{\"value\":0.2},\"fill_color\":{\"value\":\"#30a2da\"},\"hatch_alpha\":{\"value\":0.2},\"hatch_color\":{\"value\":\"#30a2da\"},\"left\":{\"field\":\"left\"},\"line_alpha\":{\"value\":0.2},\"right\":{\"field\":\"right\"},\"top\":{\"field\":\"top\"}},\"id\":\"1490\",\"type\":\"Quad\"},{\"attributes\":{\"margin\":[5,5,5,5],\"name\":\"HSpacer01390\",\"sizing_mode\":\"stretch_width\"},\"id\":\"1451\",\"type\":\"Spacer\"},{\"attributes\":{},\"id\":\"1496\",\"type\":\"AllLabels\"},{\"attributes\":{\"children\":[{\"id\":\"1451\"},{\"id\":\"1455\"},{\"id\":\"1510\"}],\"margin\":[0,0,0,0],\"name\":\"Row01386\",\"tags\":[\"embedded\"]},\"id\":\"1450\",\"type\":\"Row\"},{\"attributes\":{},\"id\":\"1474\",\"type\":\"WheelZoomTool\"},{\"attributes\":{\"bottom\":{\"value\":0},\"fill_alpha\":{\"value\":1.0},\"fill_color\":{\"value\":\"#30a2da\"},\"hatch_alpha\":{\"value\":1.0},\"hatch_color\":{\"value\":\"#30a2da\"},\"hatch_scale\":{\"value\":12.0},\"hatch_weight\":{\"value\":1.0},\"left\":{\"field\":\"left\"},\"line_alpha\":{\"value\":1.0},\"line_cap\":{\"value\":\"butt\"},\"line_color\":{\"value\":\"black\"},\"line_dash\":{\"value\":[]},\"line_dash_offset\":{\"value\":0},\"line_join\":{\"value\":\"bevel\"},\"line_width\":{\"value\":1},\"right\":{\"field\":\"right\"},\"top\":{\"field\":\"top\"}},\"id\":\"1493\",\"type\":\"Quad\"}],\"root_ids\":[\"1450\"]},\"title\":\"Bokeh Application\",\"version\":\"2.4.3\"}};\n",
       "    var render_items = [{\"docid\":\"d9ab4115-b0bf-43c7-b85c-0605a5b38480\",\"root_ids\":[\"1450\"],\"roots\":{\"1450\":\"c1f55636-3fe8-4b1f-a385-b10f070b3952\"}}];\n",
       "    root.Bokeh.embed.embed_items_notebook(docs_json, render_items);\n",
       "  }\n",
       "  if (root.Bokeh !== undefined && root.Bokeh.Panel !== undefined) {\n",
       "    embed_document(root);\n",
       "  } else {\n",
       "    var attempts = 0;\n",
       "    var timer = setInterval(function(root) {\n",
       "      if (root.Bokeh !== undefined && root.Bokeh.Panel !== undefined) {\n",
       "        clearInterval(timer);\n",
       "        embed_document(root);\n",
       "      } else if (document.readyState == \"complete\") {\n",
       "        attempts++;\n",
       "        if (attempts > 200) {\n",
       "          clearInterval(timer);\n",
       "          console.log(\"Bokeh: ERROR: Unable to run BokehJS code because BokehJS library is missing\");\n",
       "        }\n",
       "      }\n",
       "    }, 25, root)\n",
       "  }\n",
       "})(window);</script>"
      ],
      "text/plain": [
       ":Histogram   [sepal_length]   (sepal_length_count)"
      ]
     },
     "execution_count": 26,
     "metadata": {
      "application/vnd.holoviews_exec.v0+json": {
       "id": "1450"
      }
     },
     "output_type": "execute_result"
    }
   ],
   "source": [
    "#Histogram plot\n",
    "sepal_length.hvplot.hist(bins=10)"
   ]
  },
  {
   "cell_type": "code",
   "execution_count": 27,
   "metadata": {},
   "outputs": [
    {
     "data": {},
     "metadata": {},
     "output_type": "display_data"
    },
    {
     "data": {
      "application/vnd.holoviews_exec.v0+json": "",
      "text/html": [
       "<div id='1562'>\n",
       "  <div class=\"bk-root\" id=\"841e79bf-7761-4be4-afee-bdd3b5e95cd5\" data-root-id=\"1562\"></div>\n",
       "</div>\n",
       "<script type=\"application/javascript\">(function(root) {\n",
       "  function embed_document(root) {\n",
       "    var docs_json = {\"471bf345-86aa-47f8-be20-eca9f23a8945\":{\"defs\":[{\"extends\":null,\"module\":null,\"name\":\"ReactiveHTML1\",\"overrides\":[],\"properties\":[]},{\"extends\":null,\"module\":null,\"name\":\"FlexBox1\",\"overrides\":[],\"properties\":[{\"default\":\"flex-start\",\"kind\":null,\"name\":\"align_content\"},{\"default\":\"flex-start\",\"kind\":null,\"name\":\"align_items\"},{\"default\":\"row\",\"kind\":null,\"name\":\"flex_direction\"},{\"default\":\"wrap\",\"kind\":null,\"name\":\"flex_wrap\"},{\"default\":\"flex-start\",\"kind\":null,\"name\":\"justify_content\"}]},{\"extends\":null,\"module\":null,\"name\":\"GridStack1\",\"overrides\":[],\"properties\":[{\"default\":\"warn\",\"kind\":null,\"name\":\"mode\"},{\"default\":null,\"kind\":null,\"name\":\"ncols\"},{\"default\":null,\"kind\":null,\"name\":\"nrows\"},{\"default\":true,\"kind\":null,\"name\":\"allow_resize\"},{\"default\":true,\"kind\":null,\"name\":\"allow_drag\"},{\"default\":[],\"kind\":null,\"name\":\"state\"}]},{\"extends\":null,\"module\":null,\"name\":\"click1\",\"overrides\":[],\"properties\":[{\"default\":\"\",\"kind\":null,\"name\":\"terminal_output\"},{\"default\":\"\",\"kind\":null,\"name\":\"debug_name\"},{\"default\":0,\"kind\":null,\"name\":\"clears\"}]},{\"extends\":null,\"module\":null,\"name\":\"NotificationAreaBase1\",\"overrides\":[],\"properties\":[{\"default\":\"bottom-right\",\"kind\":null,\"name\":\"position\"},{\"default\":0,\"kind\":null,\"name\":\"_clear\"}]},{\"extends\":null,\"module\":null,\"name\":\"NotificationArea1\",\"overrides\":[],\"properties\":[{\"default\":[],\"kind\":null,\"name\":\"notifications\"},{\"default\":\"bottom-right\",\"kind\":null,\"name\":\"position\"},{\"default\":0,\"kind\":null,\"name\":\"_clear\"},{\"default\":[{\"background\":\"#ffc107\",\"icon\":{\"className\":\"fas fa-exclamation-triangle\",\"color\":\"white\",\"tagName\":\"i\"},\"type\":\"warning\"},{\"background\":\"#007bff\",\"icon\":{\"className\":\"fas fa-info-circle\",\"color\":\"white\",\"tagName\":\"i\"},\"type\":\"info\"}],\"kind\":null,\"name\":\"types\"}]},{\"extends\":null,\"module\":null,\"name\":\"Notification\",\"overrides\":[],\"properties\":[{\"default\":null,\"kind\":null,\"name\":\"background\"},{\"default\":3000,\"kind\":null,\"name\":\"duration\"},{\"default\":null,\"kind\":null,\"name\":\"icon\"},{\"default\":\"\",\"kind\":null,\"name\":\"message\"},{\"default\":null,\"kind\":null,\"name\":\"notification_type\"},{\"default\":false,\"kind\":null,\"name\":\"_destroyed\"}]},{\"extends\":null,\"module\":null,\"name\":\"TemplateActions1\",\"overrides\":[],\"properties\":[{\"default\":0,\"kind\":null,\"name\":\"open_modal\"},{\"default\":0,\"kind\":null,\"name\":\"close_modal\"}]},{\"extends\":null,\"module\":null,\"name\":\"MaterialTemplateActions1\",\"overrides\":[],\"properties\":[{\"default\":0,\"kind\":null,\"name\":\"open_modal\"},{\"default\":0,\"kind\":null,\"name\":\"close_modal\"}]}],\"roots\":{\"references\":[{\"attributes\":{\"fill_alpha\":0.2,\"fill_color\":\"#30a2da\",\"hatch_alpha\":0.2,\"hatch_color\":\"#30a2da\",\"line_alpha\":0.2,\"x\":{\"field\":\"x\"},\"y\":{\"field\":\"y\"}},\"id\":\"1602\",\"type\":\"Patch\"},{\"attributes\":{},\"id\":\"1588\",\"type\":\"ResetTool\"},{\"attributes\":{\"below\":[{\"id\":\"1576\"}],\"center\":[{\"id\":\"1579\"},{\"id\":\"1583\"}],\"height\":300,\"left\":[{\"id\":\"1580\"}],\"margin\":[5,5,5,5],\"min_border_bottom\":10,\"min_border_left\":10,\"min_border_right\":10,\"min_border_top\":10,\"renderers\":[{\"id\":\"1603\"}],\"sizing_mode\":\"fixed\",\"title\":{\"id\":\"1568\"},\"toolbar\":{\"id\":\"1590\"},\"width\":700,\"x_range\":{\"id\":\"1564\"},\"x_scale\":{\"id\":\"1572\"},\"y_range\":{\"id\":\"1565\"},\"y_scale\":{\"id\":\"1574\"}},\"id\":\"1567\",\"subtype\":\"Figure\",\"type\":\"Plot\"},{\"attributes\":{},\"id\":\"1577\",\"type\":\"BasicTicker\"},{\"attributes\":{\"overlay\":{\"id\":\"1589\"}},\"id\":\"1587\",\"type\":\"BoxZoomTool\"},{\"attributes\":{\"end\":8.811943690917042,\"reset_end\":8.811943690917042,\"reset_start\":3.388056309082957,\"start\":3.388056309082957,\"tags\":[[[\"sepal_length\",\"sepal_length\",null]]]},\"id\":\"1564\",\"type\":\"Range1d\"},{\"attributes\":{},\"id\":\"1611\",\"type\":\"AllLabels\"},{\"attributes\":{\"axis\":{\"id\":\"1576\"},\"coordinates\":null,\"grid_line_color\":null,\"group\":null,\"ticker\":null},\"id\":\"1579\",\"type\":\"Grid\"},{\"attributes\":{},\"id\":\"1610\",\"type\":\"BasicTickFormatter\"},{\"attributes\":{\"axis_label\":\"sepal_length\",\"coordinates\":null,\"formatter\":{\"id\":\"1607\"},\"group\":null,\"major_label_policy\":{\"id\":\"1608\"},\"ticker\":{\"id\":\"1577\"}},\"id\":\"1576\",\"type\":\"LinearAxis\"},{\"attributes\":{\"data\":{\"x\":{\"__ndarray__\":\"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\",\"dtype\":\"float64\",\"order\":\"little\",\"shape\":[200]},\"y\":{\"__ndarray__\":\"AAAAAAAAAAAAAAAAAAAAAAAAAAAAAAAAAAAAAAAAAAAAAAAAAAAAAAAAAAAAAAAAAAAAAAAAAAAAAAAAAAAAAAAAAAAAAAAAAAAAAAAAAAAAAAAAAAAAAAAAAAAAAAAAAAAAAAAAAAAAAAAAAAAAAAAAAAAAAAAAAAAAAAAAAAAAAAAAAAAAAAAAAAAAAAAAAAAAAAAAAAAAAAAAAAAAAAAAAAAAAAAAAAAAAAAAAAAAAAAAAAAAAAAAAAAAAAAAAAAAAAAAAAAAAAAAAAAAAAAAAAAAAAAAAAAAAAAAAAAAAAAAAAAAAAAAAAAAAAAAAAAAAAAAAAAAAAAAAAAAAAAAAAAAAAAAAAAAAAAAAAAAAAAAAAAAAAAAAAAAAAAAAAAAAAAAAAAAAAAAAAAAAAAAAAAAAAAAAAAAAAAAAAAAAAAAAAAAAAAAAAAAAAAAAAAAAAAAAAAAAAAAAAAAAAAAAAAAAAAAAAAAAAAAAAAAAAAAAAAAAAAAAAAAAAAAAAAAAAAAAAAAAAAAAAAAAAAAAAAAAAAAAAAAAAAAAAAAAAAAAAAAAAAAAAAAAAAAAAAAAAAAAAAAAAAAAAAAAAAAAAAAAAAAAAAAAAAAAAAAAAAAAAAAAAAAAAAAAAAAAAAAAAAAAAAAAAAAAAAAAAAAAAAAAAAAAAAAAAAAAAAAAAAAAAAAAAAAAAAAAAAAAAAAAAAAAAAAAAAAAAAAAAAAAAAAAAAAAAAAAAAAAAAAAAAAAAAAAAAAAAAAAAAAAAAAAAAAAAAAAAAAAAAAAAAAAAAAAAAAAAAAAAAAAAAAAAAAAAAAAAAAAAAAAAAAAAAAAAAAAAAAAAAAAAAAAAAAAAAAAAAAAAAAAAAAAAAAAAAAAAAAAAAAAAAAAAAAAAAAAAAAAAAAAAAAAAAAAAAAAAAAAAAAAAAAAAAAAAAAAAAAAAAAAAAAAAAAAAAAAAAAAAAAAAAAAAAAAAAAAAAAAAAAAAAAAAAAAAAAAAAAAAAAAAAAAAAAAAAAAAAAAAAAAAAAAAAAAAAAAAAAAAAAAAAAAAAAAAAAAAAAAACAxnD/zeAiP6NX4EJuoTA/skadPx14PD//8TdqG65HP0pqyFb4JFM/rZLxaqsXXj8nkDM65v5mP4VRMJXHFnE/E3fMjWC0eD9vD23PWV+BP0G1WB2Pxoc/ktL8Xz6sjz/k2Kfl7YqUP+RoOX/c9Zk/3MbYDBj7nz9YjHT86TejP2/C0b8Pj6Y/XaDJK7PlqT/oEJQvaCCtPyCc6tsJFbA/TXxYoeh7sT8XZlETxMWyPxWLPHhW+rM/XfDSQIYntT8PyFjZ8l+2PzU8c3LyuLc/QDqxB1tIuT/xzULJaCK7Pwr8JUz6V70/18ECBjz1vz+mn9hhYoDBP240mC+NPcM/nA3QrksvxT/DZSjO10/HPwIQxIbJlsk/g0sZq5L5yz+hXdlTGWzOP4BuaHqvcNA/RNkj1BCm0T+R0hQwts/SPzsi+4OL59M/zNQ9jyHo1D/k36p08szVP/ELDHewktY/mAkJGZk31z+zRxeFu7vXPz4DkjQZIdg/4AXF+Ydr2D+PXHXiRqDYPzkmsSdKxdg/ut83ZFjg2D/YXQ2cJfbYP5iaPcCgCdk/6PMNa6Ib2T/DnTujFyvZP/o6Nq+lNdk/FyurqaM42T8rQzc8LDLZPwBoo2r9Idk/CFrphuIJ2T+7w6yPfe3YP2uW3pNs0dg/krt4/vO52D95Pn80fKnYP9wzyKREn9g/Y4w4NamW2D8WKvhYOIfYP6c1+vSmZdg/sWSqXHgl2D8LGIBAA7vXP+eijzFlHdc/XN3fwvtH1j9dfNo8GjvVP54IyXzj+9M/rDAQyWKT0j9hySImJg3RPxs4tjdf684/6SESwByyyz9CoIjhsoPIP/B8ZudHccU/zpzlRMaHwj9ZllSAmKC/PyBR+YfYobo/WaT1X+Iatj/7Mnke5g+yPyGXbGmjBK0/kWS26QHipj/EiUyGX7ChP7YuouuyxZo/vyOyH/POkz+ol8iBLqCMP0q3HCrVLYQ/+FrVJN26ez+/4gIYfo5yP+ukPJUFLGg/EL/rl3KgXj9XHF9L9dxSP9ST715mlEY/SxUqamJBOj9bmts1f6UtPw==\",\"dtype\":\"float64\",\"order\":\"little\",\"shape\":[200]}},\"selected\":{\"id\":\"1598\"},\"selection_policy\":{\"id\":\"1619\"}},\"id\":\"1597\",\"type\":\"ColumnDataSource\"},{\"attributes\":{},\"id\":\"1584\",\"type\":\"SaveTool\"},{\"attributes\":{\"bottom_units\":\"screen\",\"coordinates\":null,\"fill_alpha\":0.5,\"fill_color\":\"lightgrey\",\"group\":null,\"left_units\":\"screen\",\"level\":\"overlay\",\"line_alpha\":1.0,\"line_color\":\"black\",\"line_dash\":[4,4],\"line_width\":2,\"right_units\":\"screen\",\"syncable\":false,\"top_units\":\"screen\"},\"id\":\"1589\",\"type\":\"BoxAnnotation\"},{\"attributes\":{\"coordinates\":null,\"group\":null,\"text_color\":\"black\",\"text_font_size\":\"12pt\"},\"id\":\"1568\",\"type\":\"Title\"},{\"attributes\":{\"fill_alpha\":0.5,\"fill_color\":\"#30a2da\",\"hatch_color\":\"#30a2da\",\"x\":{\"field\":\"x\"},\"y\":{\"field\":\"y\"}},\"id\":\"1605\",\"type\":\"Patch\"},{\"attributes\":{},\"id\":\"1608\",\"type\":\"AllLabels\"},{\"attributes\":{\"axis_label\":\"Density\",\"coordinates\":null,\"formatter\":{\"id\":\"1610\"},\"group\":null,\"major_label_policy\":{\"id\":\"1611\"},\"ticker\":{\"id\":\"1581\"}},\"id\":\"1580\",\"type\":\"LinearAxis\"},{\"attributes\":{\"axis\":{\"id\":\"1580\"},\"coordinates\":null,\"dimension\":1,\"grid_line_color\":null,\"group\":null,\"ticker\":null},\"id\":\"1583\",\"type\":\"Grid\"},{\"attributes\":{\"coordinates\":null,\"data_source\":{\"id\":\"1597\"},\"glyph\":{\"id\":\"1600\"},\"group\":null,\"hover_glyph\":null,\"muted_glyph\":{\"id\":\"1602\"},\"nonselection_glyph\":{\"id\":\"1601\"},\"selection_glyph\":{\"id\":\"1605\"},\"view\":{\"id\":\"1604\"}},\"id\":\"1603\",\"type\":\"GlyphRenderer\"},{\"attributes\":{\"tools\":[{\"id\":\"1566\"},{\"id\":\"1584\"},{\"id\":\"1585\"},{\"id\":\"1586\"},{\"id\":\"1587\"},{\"id\":\"1588\"}]},\"id\":\"1590\",\"type\":\"Toolbar\"},{\"attributes\":{\"children\":[{\"id\":\"1563\"},{\"id\":\"1567\"},{\"id\":\"1622\"}],\"margin\":[0,0,0,0],\"name\":\"Row01510\",\"tags\":[\"embedded\"]},\"id\":\"1562\",\"type\":\"Row\"},{\"attributes\":{\"fill_alpha\":0.5,\"fill_color\":\"#30a2da\",\"hatch_alpha\":0.1,\"hatch_color\":\"#30a2da\",\"line_alpha\":1,\"x\":{\"field\":\"x\"},\"y\":{\"field\":\"y\"}},\"id\":\"1601\",\"type\":\"Patch\"},{\"attributes\":{},\"id\":\"1572\",\"type\":\"LinearScale\"},{\"attributes\":{\"end\":0.433475785013769,\"reset_end\":0.433475785013769,\"reset_start\":0.0,\"tags\":[[[\"sepal_length_density\",\"Density\",null]]]},\"id\":\"1565\",\"type\":\"Range1d\"},{\"attributes\":{},\"id\":\"1607\",\"type\":\"BasicTickFormatter\"},{\"attributes\":{},\"id\":\"1619\",\"type\":\"UnionRenderers\"},{\"attributes\":{},\"id\":\"1585\",\"type\":\"PanTool\"},{\"attributes\":{\"margin\":[5,5,5,5],\"name\":\"HSpacer01515\",\"sizing_mode\":\"stretch_width\"},\"id\":\"1622\",\"type\":\"Spacer\"},{\"attributes\":{\"source\":{\"id\":\"1597\"}},\"id\":\"1604\",\"type\":\"CDSView\"},{\"attributes\":{},\"id\":\"1574\",\"type\":\"LinearScale\"},{\"attributes\":{\"fill_alpha\":0.5,\"fill_color\":\"#30a2da\",\"hatch_color\":\"#30a2da\",\"x\":{\"field\":\"x\"},\"y\":{\"field\":\"y\"}},\"id\":\"1600\",\"type\":\"Patch\"},{\"attributes\":{},\"id\":\"1581\",\"type\":\"BasicTicker\"},{\"attributes\":{\"margin\":[5,5,5,5],\"name\":\"HSpacer01514\",\"sizing_mode\":\"stretch_width\"},\"id\":\"1563\",\"type\":\"Spacer\"},{\"attributes\":{\"callback\":null,\"renderers\":[{\"id\":\"1603\"}],\"tags\":[\"hv_created\"],\"tooltips\":[[\"sepal_length\",\"@{sepal_length}\"],[\"Density\",\"@{sepal_length_density}\"]]},\"id\":\"1566\",\"type\":\"HoverTool\"},{\"attributes\":{},\"id\":\"1598\",\"type\":\"Selection\"},{\"attributes\":{},\"id\":\"1586\",\"type\":\"WheelZoomTool\"}],\"root_ids\":[\"1562\"]},\"title\":\"Bokeh Application\",\"version\":\"2.4.3\"}};\n",
       "    var render_items = [{\"docid\":\"471bf345-86aa-47f8-be20-eca9f23a8945\",\"root_ids\":[\"1562\"],\"roots\":{\"1562\":\"841e79bf-7761-4be4-afee-bdd3b5e95cd5\"}}];\n",
       "    root.Bokeh.embed.embed_items_notebook(docs_json, render_items);\n",
       "  }\n",
       "  if (root.Bokeh !== undefined && root.Bokeh.Panel !== undefined) {\n",
       "    embed_document(root);\n",
       "  } else {\n",
       "    var attempts = 0;\n",
       "    var timer = setInterval(function(root) {\n",
       "      if (root.Bokeh !== undefined && root.Bokeh.Panel !== undefined) {\n",
       "        clearInterval(timer);\n",
       "        embed_document(root);\n",
       "      } else if (document.readyState == \"complete\") {\n",
       "        attempts++;\n",
       "        if (attempts > 200) {\n",
       "          clearInterval(timer);\n",
       "          console.log(\"Bokeh: ERROR: Unable to run BokehJS code because BokehJS library is missing\");\n",
       "        }\n",
       "      }\n",
       "    }, 25, root)\n",
       "  }\n",
       "})(window);</script>"
      ],
      "text/plain": [
       ":Distribution   [sepal_length]   (Density)"
      ]
     },
     "execution_count": 27,
     "metadata": {
      "application/vnd.holoviews_exec.v0+json": {
       "id": "1562"
      }
     },
     "output_type": "execute_result"
    }
   ],
   "source": [
    "#Kernel Density estimation plot\n",
    "sepal_length.hvplot.kde()"
   ]
  },
  {
   "cell_type": "markdown",
   "metadata": {},
   "source": [
    "## Step 7: Pie and Bar Charts\n",
    "\n",
    "Task: Create a pie chart and bar chart based on species count.\n",
    "\n",
    "Instruction: Visualize the species distribution using a pie chart and a bar chart."
   ]
  },
  {
   "cell_type": "code",
   "execution_count": 33,
   "metadata": {},
   "outputs": [],
   "source": [
    "#Group wise count, group by index i.e. Specie\n",
    "species_grouped=data.groupby(data.index).size().compute()"
   ]
  },
  {
   "cell_type": "code",
   "execution_count": 34,
   "metadata": {},
   "outputs": [
    {
     "data": {
      "text/plain": [
       "Text(0, 0.5, ' ')"
      ]
     },
     "execution_count": 34,
     "metadata": {},
     "output_type": "execute_result"
    },
    {
     "data": {
      "image/png": "[encoded data removed]",
      "text/plain": [
       "<Figure size 640x480 with 1 Axes>"
      ]
     },
     "metadata": {},
     "output_type": "display_data"
    }
   ],
   "source": [
    "species_grouped.plot(kind='pie', autopct='%1.1f%%').set_ylabel(' ')"
   ]
  },
  {
   "cell_type": "code",
   "execution_count": 35,
   "metadata": {},
   "outputs": [
    {
     "data": {
      "text/plain": [
       "<AxesSubplot: xlabel='species'>"
      ]
     },
     "execution_count": 35,
     "metadata": {},
     "output_type": "execute_result"
    },
    {
     "data": {
      "image/png": "[encoded data removed]",
      "text/plain": [
       "<Figure size 640x480 with 1 Axes>"
      ]
     },
     "metadata": {},
     "output_type": "display_data"
    }
   ],
   "source": [
    "#Bar plot of grouped species\n",
    "species_grouped.plot(kind='bar',color='Red')"
   ]
  },
  {
   "cell_type": "markdown",
   "metadata": {},
   "source": [
    "## Step 8: Covariance and Correlation\n",
    "\n",
    "Task: Compute the covariance and correlation of the dataset.\n",
    "\n",
    "Instruction: Calculate and display the covariance and correlation between columns."
   ]
  },
  {
   "cell_type": "code",
   "execution_count": 36,
   "metadata": {},
   "outputs": [
    {
     "data": {
      "text/html": [
       "<div>\n",
       "<style scoped>\n",
       "    .dataframe tbody tr th:only-of-type {\n",
       "        vertical-align: middle;\n",
       "    }\n",
       "\n",
       "    .dataframe tbody tr th {\n",
       "        vertical-align: top;\n",
       "    }\n",
       "\n",
       "    .dataframe thead th {\n",
       "        text-align: right;\n",
       "    }\n",
       "</style>\n",
       "<table border=\"1\" class=\"dataframe\">\n",
       "  <thead>\n",
       "    <tr style=\"text-align: right;\">\n",
       "      <th></th>\n",
       "      <th>sepal_length</th>\n",
       "      <th>sepal_width</th>\n",
       "      <th>petal_length</th>\n",
       "      <th>petal_width</th>\n",
       "    </tr>\n",
       "  </thead>\n",
       "  <tbody>\n",
       "    <tr>\n",
       "      <th>sepal_length</th>\n",
       "      <td>0.685694</td>\n",
       "      <td>-0.039268</td>\n",
       "      <td>1.273682</td>\n",
       "      <td>0.516904</td>\n",
       "    </tr>\n",
       "    <tr>\n",
       "      <th>sepal_width</th>\n",
       "      <td>-0.039268</td>\n",
       "      <td>0.188004</td>\n",
       "      <td>-0.321713</td>\n",
       "      <td>-0.117981</td>\n",
       "    </tr>\n",
       "    <tr>\n",
       "      <th>petal_length</th>\n",
       "      <td>1.273682</td>\n",
       "      <td>-0.321713</td>\n",
       "      <td>3.113179</td>\n",
       "      <td>1.296387</td>\n",
       "    </tr>\n",
       "    <tr>\n",
       "      <th>petal_width</th>\n",
       "      <td>0.516904</td>\n",
       "      <td>-0.117981</td>\n",
       "      <td>1.296387</td>\n",
       "      <td>0.582414</td>\n",
       "    </tr>\n",
       "  </tbody>\n",
       "</table>\n",
       "</div>"
      ],
      "text/plain": [
       "              sepal_length  sepal_width  petal_length  petal_width\n",
       "sepal_length      0.685694    -0.039268      1.273682     0.516904\n",
       "sepal_width      -0.039268     0.188004     -0.321713    -0.117981\n",
       "petal_length      1.273682    -0.321713      3.113179     1.296387\n",
       "petal_width       0.516904    -0.117981      1.296387     0.582414"
      ]
     },
     "execution_count": 36,
     "metadata": {},
     "output_type": "execute_result"
    }
   ],
   "source": [
    "#Calculating covariance matrix\n",
    "data_cov = data.cov().compute()\n",
    "data_cov"
   ]
  },
  {
   "cell_type": "code",
   "execution_count": 37,
   "metadata": {},
   "outputs": [
    {
     "data": {
      "text/html": [
       "<div>\n",
       "<style scoped>\n",
       "    .dataframe tbody tr th:only-of-type {\n",
       "        vertical-align: middle;\n",
       "    }\n",
       "\n",
       "    .dataframe tbody tr th {\n",
       "        vertical-align: top;\n",
       "    }\n",
       "\n",
       "    .dataframe thead th {\n",
       "        text-align: right;\n",
       "    }\n",
       "</style>\n",
       "<table border=\"1\" class=\"dataframe\">\n",
       "  <thead>\n",
       "    <tr style=\"text-align: right;\">\n",
       "      <th></th>\n",
       "      <th>sepal_length</th>\n",
       "      <th>sepal_width</th>\n",
       "      <th>petal_length</th>\n",
       "      <th>petal_width</th>\n",
       "    </tr>\n",
       "  </thead>\n",
       "  <tbody>\n",
       "    <tr>\n",
       "      <th>sepal_length</th>\n",
       "      <td>1.000000</td>\n",
       "      <td>-0.109369</td>\n",
       "      <td>0.871754</td>\n",
       "      <td>0.817954</td>\n",
       "    </tr>\n",
       "    <tr>\n",
       "      <th>sepal_width</th>\n",
       "      <td>-0.109369</td>\n",
       "      <td>1.000000</td>\n",
       "      <td>-0.420516</td>\n",
       "      <td>-0.356544</td>\n",
       "    </tr>\n",
       "    <tr>\n",
       "      <th>petal_length</th>\n",
       "      <td>0.871754</td>\n",
       "      <td>-0.420516</td>\n",
       "      <td>1.000000</td>\n",
       "      <td>0.962757</td>\n",
       "    </tr>\n",
       "    <tr>\n",
       "      <th>petal_width</th>\n",
       "      <td>0.817954</td>\n",
       "      <td>-0.356544</td>\n",
       "      <td>0.962757</td>\n",
       "      <td>1.000000</td>\n",
       "    </tr>\n",
       "  </tbody>\n",
       "</table>\n",
       "</div>"
      ],
      "text/plain": [
       "              sepal_length  sepal_width  petal_length  petal_width\n",
       "sepal_length      1.000000    -0.109369      0.871754     0.817954\n",
       "sepal_width      -0.109369     1.000000     -0.420516    -0.356544\n",
       "petal_length      0.871754    -0.420516      1.000000     0.962757\n",
       "petal_width       0.817954    -0.356544      0.962757     1.000000"
      ]
     },
     "execution_count": 37,
     "metadata": {},
     "output_type": "execute_result"
    }
   ],
   "source": [
    "#Calculating correlation matrix\n",
    "data_correlation = data.corr().compute()\n",
    "data_correlation"
   ]
  },
  {
   "cell_type": "markdown",
   "metadata": {},
   "source": [
    "## Step 8: Boxplot and Scatterplot\n",
    "\n",
    "Task: Create a boxplot and scatterplot of the dataset.\n",
    "\n",
    "Instruction: Generate a boxplot and scatterplot to explore the data distribution."
   ]
  },
  {
   "cell_type": "code",
   "execution_count": 38,
   "metadata": {},
   "outputs": [
    {
     "data": {},
     "metadata": {},
     "output_type": "display_data"
    },
    {
     "data": {
      "application/vnd.holoviews_exec.v0+json": "",
      "text/html": [
       "<div id='1674'>\n",
       "  <div class=\"bk-root\" id=\"93071848-1d56-4a77-96ed-72d52b6b93d4\" data-root-id=\"1674\"></div>\n",
       "</div>\n",
       "<script type=\"application/javascript\">(function(root) {\n",
       "  function embed_document(root) {\n",
       "    var docs_json = {\"ec644a64-fd47-4c17-98e1-5bee39346183\":{\"defs\":[{\"extends\":null,\"module\":null,\"name\":\"ReactiveHTML1\",\"overrides\":[],\"properties\":[]},{\"extends\":null,\"module\":null,\"name\":\"FlexBox1\",\"overrides\":[],\"properties\":[{\"default\":\"flex-start\",\"kind\":null,\"name\":\"align_content\"},{\"default\":\"flex-start\",\"kind\":null,\"name\":\"align_items\"},{\"default\":\"row\",\"kind\":null,\"name\":\"flex_direction\"},{\"default\":\"wrap\",\"kind\":null,\"name\":\"flex_wrap\"},{\"default\":\"flex-start\",\"kind\":null,\"name\":\"justify_content\"}]},{\"extends\":null,\"module\":null,\"name\":\"GridStack1\",\"overrides\":[],\"properties\":[{\"default\":\"warn\",\"kind\":null,\"name\":\"mode\"},{\"default\":null,\"kind\":null,\"name\":\"ncols\"},{\"default\":null,\"kind\":null,\"name\":\"nrows\"},{\"default\":true,\"kind\":null,\"name\":\"allow_resize\"},{\"default\":true,\"kind\":null,\"name\":\"allow_drag\"},{\"default\":[],\"kind\":null,\"name\":\"state\"}]},{\"extends\":null,\"module\":null,\"name\":\"click1\",\"overrides\":[],\"properties\":[{\"default\":\"\",\"kind\":null,\"name\":\"terminal_output\"},{\"default\":\"\",\"kind\":null,\"name\":\"debug_name\"},{\"default\":0,\"kind\":null,\"name\":\"clears\"}]},{\"extends\":null,\"module\":null,\"name\":\"NotificationAreaBase1\",\"overrides\":[],\"properties\":[{\"default\":\"bottom-right\",\"kind\":null,\"name\":\"position\"},{\"default\":0,\"kind\":null,\"name\":\"_clear\"}]},{\"extends\":null,\"module\":null,\"name\":\"NotificationArea1\",\"overrides\":[],\"properties\":[{\"default\":[],\"kind\":null,\"name\":\"notifications\"},{\"default\":\"bottom-right\",\"kind\":null,\"name\":\"position\"},{\"default\":0,\"kind\":null,\"name\":\"_clear\"},{\"default\":[{\"background\":\"#ffc107\",\"icon\":{\"className\":\"fas fa-exclamation-triangle\",\"color\":\"white\",\"tagName\":\"i\"},\"type\":\"warning\"},{\"background\":\"#007bff\",\"icon\":{\"className\":\"fas fa-info-circle\",\"color\":\"white\",\"tagName\":\"i\"},\"type\":\"info\"}],\"kind\":null,\"name\":\"types\"}]},{\"extends\":null,\"module\":null,\"name\":\"Notification\",\"overrides\":[],\"properties\":[{\"default\":null,\"kind\":null,\"name\":\"background\"},{\"default\":3000,\"kind\":null,\"name\":\"duration\"},{\"default\":null,\"kind\":null,\"name\":\"icon\"},{\"default\":\"\",\"kind\":null,\"name\":\"message\"},{\"default\":null,\"kind\":null,\"name\":\"notification_type\"},{\"default\":false,\"kind\":null,\"name\":\"_destroyed\"}]},{\"extends\":null,\"module\":null,\"name\":\"TemplateActions1\",\"overrides\":[],\"properties\":[{\"default\":0,\"kind\":null,\"name\":\"open_modal\"},{\"default\":0,\"kind\":null,\"name\":\"close_modal\"}]},{\"extends\":null,\"module\":null,\"name\":\"MaterialTemplateActions1\",\"overrides\":[],\"properties\":[{\"default\":0,\"kind\":null,\"name\":\"open_modal\"},{\"default\":0,\"kind\":null,\"name\":\"close_modal\"}]}],\"roots\":{\"references\":[{\"attributes\":{\"line_alpha\":{\"value\":0.2},\"x0\":{\"field\":\"x0\"},\"x1\":{\"field\":\"x1\"},\"y0\":{\"field\":\"y0\"},\"y1\":{\"field\":\"y1\"}},\"id\":\"1726\",\"type\":\"Segment\"},{\"attributes\":{\"line_alpha\":{\"value\":0.2},\"x0\":{\"field\":\"x0\"},\"x1\":{\"field\":\"x1\"},\"y0\":{\"field\":\"y0\"},\"y1\":{\"field\":\"y1\"}},\"id\":\"1734\",\"type\":\"Segment\"},{\"attributes\":{\"fill_alpha\":{\"value\":0.2},\"fill_color\":{\"value\":\"black\"},\"hatch_alpha\":{\"value\":0.2},\"line_alpha\":{\"value\":0.2},\"x\":{\"field\":\"index\"},\"y\":{\"field\":\"value\"}},\"id\":\"1710\",\"type\":\"Circle\"},{\"attributes\":{},\"id\":\"1770\",\"type\":\"UnionRenderers\"},{\"attributes\":{\"axis_label\":\"\",\"coordinates\":null,\"formatter\":{\"id\":\"1755\"},\"group\":null,\"major_label_policy\":{\"id\":\"1756\"},\"ticker\":{\"id\":\"1691\"}},\"id\":\"1690\",\"type\":\"LinearAxis\"},{\"attributes\":{},\"id\":\"1698\",\"type\":\"ResetTool\"},{\"attributes\":{},\"id\":\"1683\",\"type\":\"CategoricalScale\"},{\"attributes\":{\"children\":[{\"id\":\"1675\"},{\"id\":\"1678\"},{\"id\":\"1812\"}],\"margin\":[0,0,0,0],\"name\":\"Row01628\",\"tags\":[\"embedded\"]},\"id\":\"1674\",\"type\":\"Row\"},{\"attributes\":{\"source\":{\"id\":\"1722\"}},\"id\":\"1728\",\"type\":\"CDSView\"},{\"attributes\":{\"line_alpha\":{\"value\":1.0},\"line_cap\":{\"value\":\"butt\"},\"line_color\":{\"value\":\"black\"},\"line_dash\":{\"value\":[]},\"line_dash_offset\":{\"value\":0},\"line_join\":{\"value\":\"bevel\"},\"line_width\":{\"value\":1},\"x0\":{\"field\":\"x0\"},\"x1\":{\"field\":\"x1\"},\"y0\":{\"field\":\"y0\"},\"y1\":{\"field\":\"y1\"}},\"id\":\"1737\",\"type\":\"Segment\"},{\"attributes\":{},\"id\":\"1755\",\"type\":\"BasicTickFormatter\"},{\"attributes\":{\"angle\":{\"value\":0.0},\"fill_alpha\":{\"value\":1.0},\"fill_color\":{\"value\":\"black\"},\"hatch_alpha\":{\"value\":1.0},\"hatch_color\":{\"value\":\"black\"},\"hatch_scale\":{\"value\":12.0},\"hatch_weight\":{\"value\":1.0},\"line_alpha\":{\"value\":1.0},\"line_cap\":{\"value\":\"butt\"},\"line_color\":{\"value\":\"black\"},\"line_dash\":{\"value\":[]},\"line_dash_offset\":{\"value\":0},\"line_join\":{\"value\":\"bevel\"},\"line_width\":{\"value\":1},\"size\":{\"value\":4},\"x\":{\"field\":\"index\"},\"y\":{\"field\":\"value\"}},\"id\":\"1713\",\"type\":\"Circle\"},{\"attributes\":{\"line_alpha\":{\"value\":0.2},\"x0\":{\"field\":\"x0\"},\"x1\":{\"field\":\"x1\"},\"y0\":{\"field\":\"y0\"},\"y1\":{\"field\":\"y1\"}},\"id\":\"1718\",\"type\":\"Segment\"},{\"attributes\":{\"line_alpha\":{\"value\":0.1},\"x0\":{\"field\":\"x0\"},\"x1\":{\"field\":\"x1\"},\"y0\":{\"field\":\"y0\"},\"y1\":{\"field\":\"y1\"}},\"id\":\"1741\",\"type\":\"Segment\"},{\"attributes\":{\"bottom\":{\"field\":\"bottom\"},\"fill_alpha\":{\"value\":0.2},\"fill_color\":{\"value\":\"#30a2da\"},\"hatch_alpha\":{\"value\":0.2},\"line_alpha\":{\"value\":0.2},\"top\":{\"field\":\"top\"},\"width\":{\"value\":0.7},\"x\":{\"field\":\"index\"}},\"id\":\"1750\",\"type\":\"VBar\"},{\"attributes\":{\"margin\":[5,5,5,5],\"name\":\"HSpacer01632\",\"sizing_mode\":\"stretch_width\"},\"id\":\"1675\",\"type\":\"Spacer\"},{\"attributes\":{\"line_alpha\":{\"value\":0.1},\"x0\":{\"field\":\"x0\"},\"x1\":{\"field\":\"x1\"},\"y0\":{\"field\":\"y0\"},\"y1\":{\"field\":\"y1\"}},\"id\":\"1733\",\"type\":\"Segment\"},{\"attributes\":{\"source\":{\"id\":\"1730\"}},\"id\":\"1736\",\"type\":\"CDSView\"},{\"attributes\":{\"coordinates\":null,\"data_source\":{\"id\":\"1730\"},\"glyph\":{\"id\":\"1732\"},\"group\":null,\"hover_glyph\":null,\"muted_glyph\":{\"id\":\"1734\"},\"nonselection_glyph\":{\"id\":\"1733\"},\"selection_glyph\":{\"id\":\"1737\"},\"view\":{\"id\":\"1736\"}},\"id\":\"1735\",\"type\":\"GlyphRenderer\"},{\"attributes\":{\"bottom\":{\"field\":\"bottom\"},\"fill_alpha\":{\"value\":0.1},\"fill_color\":{\"value\":\"#30a2da\"},\"hatch_alpha\":{\"value\":0.1},\"line_alpha\":{\"value\":0.1},\"top\":{\"field\":\"top\"},\"width\":{\"value\":0.7},\"x\":{\"field\":\"index\"}},\"id\":\"1749\",\"type\":\"VBar\"},{\"attributes\":{\"coordinates\":null,\"data_source\":{\"id\":\"1706\"},\"glyph\":{\"id\":\"1708\"},\"group\":null,\"hover_glyph\":null,\"muted_glyph\":{\"id\":\"1710\"},\"nonselection_glyph\":{\"id\":\"1709\"},\"selection_glyph\":{\"id\":\"1713\"},\"view\":{\"id\":\"1712\"}},\"id\":\"1711\",\"type\":\"GlyphRenderer\"},{\"attributes\":{},\"id\":\"1768\",\"type\":\"UnionRenderers\"},{\"attributes\":{\"bottom_units\":\"screen\",\"coordinates\":null,\"fill_alpha\":0.5,\"fill_color\":\"lightgrey\",\"group\":null,\"left_units\":\"screen\",\"level\":\"overlay\",\"line_alpha\":1.0,\"line_color\":\"black\",\"line_dash\":[4,4],\"line_width\":2,\"right_units\":\"screen\",\"syncable\":false,\"top_units\":\"screen\"},\"id\":\"1699\",\"type\":\"BoxAnnotation\"},{\"attributes\":{\"data\":{\"bottom\":{\"__ndarray__\":\"MzMzMzMzF0AAAAAAAAAIQGZmZmZmZhFAzczMzMzM9D8=\",\"dtype\":\"float64\",\"order\":\"little\",\"shape\":[4,1]},\"index\":[\"sepal_length\",\"sepal_width\",\"petal_length\",\"petal_width\"],\"top\":{\"__ndarray__\":\"ZmZmZmZmFEBmZmZmZmYGQJqZmZmZmfk/MzMzMzMz0z8=\",\"dtype\":\"float64\",\"order\":\"little\",\"shape\":[4,1]}},\"selected\":{\"id\":\"1810\"},\"selection_policy\":{\"id\":\"1809\"}},\"id\":\"1776\",\"type\":\"ColumnDataSource\"},{\"attributes\":{},\"id\":\"1762\",\"type\":\"UnionRenderers\"},{\"attributes\":{\"source\":{\"id\":\"1738\"}},\"id\":\"1744\",\"type\":\"CDSView\"},{\"attributes\":{\"tools\":[{\"id\":\"1694\"},{\"id\":\"1695\"},{\"id\":\"1696\"},{\"id\":\"1697\"},{\"id\":\"1698\"}]},\"id\":\"1700\",\"type\":\"Toolbar\"},{\"attributes\":{\"source\":{\"id\":\"1706\"}},\"id\":\"1712\",\"type\":\"CDSView\"},{\"attributes\":{\"data\":{\"index\":[\"sepal_width\",\"sepal_width\",\"sepal_width\",\"sepal_width\"],\"value\":{\"__ndarray__\":\"mpmZmZmZEUBmZmZmZmYQQM3MzMzMzBBAAAAAAAAAAEA=\",\"dtype\":\"float64\",\"order\":\"little\",\"shape\":[4]}},\"selected\":{\"id\":\"1761\"},\"selection_policy\":{\"id\":\"1760\"}},\"id\":\"1706\",\"type\":\"ColumnDataSource\"},{\"attributes\":{},\"id\":\"1688\",\"type\":\"CategoricalTicker\"},{\"attributes\":{},\"id\":\"1764\",\"type\":\"UnionRenderers\"},{\"attributes\":{\"x0\":{\"field\":\"x0\"},\"x1\":{\"field\":\"x1\"},\"y0\":{\"field\":\"y0\"},\"y1\":{\"field\":\"y1\"}},\"id\":\"1716\",\"type\":\"Segment\"},{\"attributes\":{\"bottom\":{\"field\":\"bottom\"},\"fill_alpha\":{\"value\":0.1},\"fill_color\":{\"value\":\"#30a2da\"},\"hatch_alpha\":{\"value\":0.1},\"line_alpha\":{\"value\":0.1},\"top\":{\"field\":\"top\"},\"width\":{\"value\":0.7},\"x\":{\"field\":\"index\"}},\"id\":\"1779\",\"type\":\"VBar\"},{\"attributes\":{\"coordinates\":null,\"group\":null,\"text_color\":\"black\",\"text_font_size\":\"12pt\"},\"id\":\"1679\",\"type\":\"Title\"},{\"attributes\":{\"axis\":{\"id\":\"1690\"},\"coordinates\":null,\"dimension\":1,\"grid_line_color\":null,\"group\":null,\"ticker\":null},\"id\":\"1693\",\"type\":\"Grid\"},{\"attributes\":{\"x0\":{\"field\":\"x0\"},\"x1\":{\"field\":\"x1\"},\"y0\":{\"field\":\"y0\"},\"y1\":{\"field\":\"y1\"}},\"id\":\"1732\",\"type\":\"Segment\"},{\"attributes\":{\"coordinates\":null,\"data_source\":{\"id\":\"1738\"},\"glyph\":{\"id\":\"1740\"},\"group\":null,\"hover_glyph\":null,\"muted_glyph\":{\"id\":\"1742\"},\"nonselection_glyph\":{\"id\":\"1741\"},\"selection_glyph\":{\"id\":\"1745\"},\"view\":{\"id\":\"1744\"}},\"id\":\"1743\",\"type\":\"GlyphRenderer\"},{\"attributes\":{\"axis\":{\"id\":\"1687\"},\"coordinates\":null,\"grid_line_color\":null,\"group\":null,\"ticker\":null},\"id\":\"1689\",\"type\":\"Grid\"},{\"attributes\":{\"line_alpha\":{\"value\":0.2},\"x0\":{\"field\":\"x0\"},\"x1\":{\"field\":\"x1\"},\"y0\":{\"field\":\"y0\"},\"y1\":{\"field\":\"y1\"}},\"id\":\"1742\",\"type\":\"Segment\"},{\"attributes\":{\"data\":{\"x0\":[\"sepal_length\",\"sepal_width\",\"petal_length\",\"petal_width\"],\"x1\":[\"sepal_length\",\"sepal_width\",\"petal_length\",\"petal_width\"],\"y0\":{\"__ndarray__\":\"mpmZmZmZH0AAAAAAAAAQQJqZmZmZmRtAAAAAAAAABEA=\",\"dtype\":\"float64\",\"order\":\"little\",\"shape\":[4]},\"y1\":{\"__ndarray__\":\"mpmZmZmZGUBmZmZmZmYKQGZmZmZmZhRAzczMzMzM/D8=\",\"dtype\":\"float64\",\"order\":\"little\",\"shape\":[4,1]}},\"selected\":{\"id\":\"1763\"},\"selection_policy\":{\"id\":\"1762\"}},\"id\":\"1714\",\"type\":\"ColumnDataSource\"},{\"attributes\":{\"coordinates\":null,\"group\":null,\"items\":[]},\"id\":\"1773\",\"type\":\"Legend\"},{\"attributes\":{\"fill_alpha\":{\"value\":0.1},\"fill_color\":{\"value\":\"black\"},\"hatch_alpha\":{\"value\":0.1},\"line_alpha\":{\"value\":0.1},\"x\":{\"field\":\"index\"},\"y\":{\"field\":\"value\"}},\"id\":\"1709\",\"type\":\"Circle\"},{\"attributes\":{\"line_alpha\":{\"value\":1.0},\"line_cap\":{\"value\":\"butt\"},\"line_color\":{\"value\":\"black\"},\"line_dash\":{\"value\":[]},\"line_dash_offset\":{\"value\":0},\"line_join\":{\"value\":\"bevel\"},\"line_width\":{\"value\":1},\"x0\":{\"field\":\"x0\"},\"x1\":{\"field\":\"x1\"},\"y0\":{\"field\":\"y0\"},\"y1\":{\"field\":\"y1\"}},\"id\":\"1721\",\"type\":\"Segment\"},{\"attributes\":{\"coordinates\":null,\"data_source\":{\"id\":\"1746\"},\"glyph\":{\"id\":\"1748\"},\"group\":null,\"hover_glyph\":null,\"muted_glyph\":{\"id\":\"1750\"},\"nonselection_glyph\":{\"id\":\"1749\"},\"selection_glyph\":{\"id\":\"1775\"},\"view\":{\"id\":\"1752\"}},\"id\":\"1751\",\"type\":\"GlyphRenderer\"},{\"attributes\":{\"line_alpha\":{\"value\":0.1},\"x0\":{\"field\":\"x0\"},\"x1\":{\"field\":\"x1\"},\"y0\":{\"field\":\"y0\"},\"y1\":{\"field\":\"y1\"}},\"id\":\"1725\",\"type\":\"Segment\"},{\"attributes\":{},\"id\":\"1685\",\"type\":\"LinearScale\"},{\"attributes\":{\"end\":8.68,\"reset_end\":8.68,\"reset_start\":-0.6800000000000002,\"start\":-0.6800000000000002,\"tags\":[[[\"value\",\"value\",null]]]},\"id\":\"1677\",\"type\":\"Range1d\"},{\"attributes\":{\"data\":{\"bottom\":{\"__ndarray__\":\"mpmZmZmZGUBmZmZmZmYKQGZmZmZmZhRAzczMzMzM/D8=\",\"dtype\":\"float64\",\"order\":\"little\",\"shape\":[4,1]},\"index\":[\"sepal_length\",\"sepal_width\",\"petal_length\",\"petal_width\"],\"top\":{\"__ndarray__\":\"MzMzMzMzF0AAAAAAAAAIQGZmZmZmZhFAzczMzMzM9D8=\",\"dtype\":\"float64\",\"order\":\"little\",\"shape\":[4,1]}},\"selected\":{\"id\":\"1771\"},\"selection_policy\":{\"id\":\"1770\"}},\"id\":\"1746\",\"type\":\"ColumnDataSource\"},{\"attributes\":{\"margin\":[5,5,5,5],\"name\":\"HSpacer01633\",\"sizing_mode\":\"stretch_width\"},\"id\":\"1812\",\"type\":\"Spacer\"},{\"attributes\":{\"line_alpha\":{\"value\":1.0},\"line_cap\":{\"value\":\"butt\"},\"line_color\":{\"value\":\"black\"},\"line_dash\":{\"value\":[]},\"line_dash_offset\":{\"value\":0},\"line_join\":{\"value\":\"bevel\"},\"line_width\":{\"value\":1},\"x0\":{\"field\":\"x0\"},\"x1\":{\"field\":\"x1\"},\"y0\":{\"field\":\"y0\"},\"y1\":{\"field\":\"y1\"}},\"id\":\"1745\",\"type\":\"Segment\"},{\"attributes\":{},\"id\":\"1691\",\"type\":\"BasicTicker\"},{\"attributes\":{},\"id\":\"1760\",\"type\":\"UnionRenderers\"},{\"attributes\":{\"source\":{\"id\":\"1746\"}},\"id\":\"1752\",\"type\":\"CDSView\"},{\"attributes\":{},\"id\":\"1695\",\"type\":\"PanTool\"},{\"attributes\":{\"bottom\":{\"field\":\"bottom\"},\"fill_color\":{\"value\":\"#30a2da\"},\"top\":{\"field\":\"top\"},\"width\":{\"value\":0.7},\"x\":{\"field\":\"index\"}},\"id\":\"1748\",\"type\":\"VBar\"},{\"attributes\":{\"coordinates\":null,\"data_source\":{\"id\":\"1722\"},\"glyph\":{\"id\":\"1724\"},\"group\":null,\"hover_glyph\":null,\"muted_glyph\":{\"id\":\"1726\"},\"nonselection_glyph\":{\"id\":\"1725\"},\"selection_glyph\":{\"id\":\"1729\"},\"view\":{\"id\":\"1728\"}},\"id\":\"1727\",\"type\":\"GlyphRenderer\"},{\"attributes\":{},\"id\":\"1756\",\"type\":\"AllLabels\"},{\"attributes\":{\"overlay\":{\"id\":\"1699\"}},\"id\":\"1697\",\"type\":\"BoxZoomTool\"},{\"attributes\":{},\"id\":\"1769\",\"type\":\"Selection\"},{\"attributes\":{\"bottom\":{\"field\":\"bottom\"},\"fill_color\":{\"value\":\"#30a2da\"},\"top\":{\"field\":\"top\"},\"width\":{\"value\":0.7},\"x\":{\"field\":\"index\"}},\"id\":\"1778\",\"type\":\"VBar\"},{\"attributes\":{},\"id\":\"1809\",\"type\":\"UnionRenderers\"},{\"attributes\":{},\"id\":\"1771\",\"type\":\"Selection\"},{\"attributes\":{\"data\":{\"x0\":[[\"sepal_length\",-0.2],[\"sepal_width\",-0.2],[\"petal_length\",-0.2],[\"petal_width\",-0.2]],\"x1\":[[\"sepal_length\",0.2],[\"sepal_width\",0.2],[\"petal_length\",0.2],[\"petal_width\",0.2]],\"y0\":[7.9,4.0,6.9,2.5],\"y1\":[7.9,4.0,6.9,2.5]},\"selected\":{\"id\":\"1769\"},\"selection_policy\":{\"id\":\"1768\"}},\"id\":\"1738\",\"type\":\"ColumnDataSource\"},{\"attributes\":{},\"id\":\"1758\",\"type\":\"CategoricalTickFormatter\"},{\"attributes\":{},\"id\":\"1765\",\"type\":\"Selection\"},{\"attributes\":{\"coordinates\":null,\"data_source\":{\"id\":\"1776\"},\"glyph\":{\"id\":\"1778\"},\"group\":null,\"hover_glyph\":null,\"muted_glyph\":{\"id\":\"1780\"},\"nonselection_glyph\":{\"id\":\"1779\"},\"selection_glyph\":{\"id\":\"1783\"},\"view\":{\"id\":\"1782\"}},\"id\":\"1781\",\"type\":\"GlyphRenderer\"},{\"attributes\":{\"below\":[{\"id\":\"1687\"}],\"center\":[{\"id\":\"1689\"},{\"id\":\"1693\"},{\"id\":\"1773\"}],\"height\":300,\"left\":[{\"id\":\"1690\"}],\"margin\":[5,5,5,5],\"min_border_bottom\":10,\"min_border_left\":10,\"min_border_right\":10,\"min_border_top\":10,\"renderers\":[{\"id\":\"1711\"},{\"id\":\"1719\"},{\"id\":\"1727\"},{\"id\":\"1735\"},{\"id\":\"1743\"},{\"id\":\"1751\"},{\"id\":\"1781\"}],\"sizing_mode\":\"fixed\",\"title\":{\"id\":\"1679\"},\"toolbar\":{\"id\":\"1700\"},\"width\":700,\"x_range\":{\"id\":\"1676\"},\"x_scale\":{\"id\":\"1683\"},\"y_range\":{\"id\":\"1677\"},\"y_scale\":{\"id\":\"1685\"}},\"id\":\"1678\",\"subtype\":\"Figure\",\"type\":\"Plot\"},{\"attributes\":{\"source\":{\"id\":\"1714\"}},\"id\":\"1720\",\"type\":\"CDSView\"},{\"attributes\":{\"line_alpha\":{\"value\":1.0},\"line_cap\":{\"value\":\"butt\"},\"line_color\":{\"value\":\"black\"},\"line_dash\":{\"value\":[]},\"line_dash_offset\":{\"value\":0},\"line_join\":{\"value\":\"bevel\"},\"line_width\":{\"value\":1},\"x0\":{\"field\":\"x0\"},\"x1\":{\"field\":\"x1\"},\"y0\":{\"field\":\"y0\"},\"y1\":{\"field\":\"y1\"}},\"id\":\"1729\",\"type\":\"Segment\"},{\"attributes\":{\"axis_label\":\"Variable\",\"coordinates\":null,\"formatter\":{\"id\":\"1758\"},\"group\":null,\"major_label_policy\":{\"id\":\"1759\"},\"ticker\":{\"id\":\"1688\"}},\"id\":\"1687\",\"type\":\"CategoricalAxis\"},{\"attributes\":{},\"id\":\"1759\",\"type\":\"AllLabels\"},{\"attributes\":{},\"id\":\"1696\",\"type\":\"WheelZoomTool\"},{\"attributes\":{\"data\":{\"x0\":[\"sepal_length\",\"sepal_width\",\"petal_length\",\"petal_width\"],\"x1\":[\"sepal_length\",\"sepal_width\",\"petal_length\",\"petal_width\"],\"y0\":{\"__ndarray__\":\"MzMzMzMzEUCamZmZmZkBQAAAAAAAAPA/mpmZmZmZuT8=\",\"dtype\":\"float64\",\"order\":\"little\",\"shape\":[4]},\"y1\":{\"__ndarray__\":\"ZmZmZmZmFEBmZmZmZmYGQJqZmZmZmfk/MzMzMzMz0z8=\",\"dtype\":\"float64\",\"order\":\"little\",\"shape\":[4,1]}},\"selected\":{\"id\":\"1765\"},\"selection_policy\":{\"id\":\"1764\"}},\"id\":\"1722\",\"type\":\"ColumnDataSource\"},{\"attributes\":{\"bottom\":{\"field\":\"bottom\"},\"fill_alpha\":{\"value\":1.0},\"fill_color\":{\"value\":\"#30a2da\"},\"hatch_alpha\":{\"value\":1.0},\"hatch_color\":{\"value\":\"black\"},\"hatch_scale\":{\"value\":12.0},\"hatch_weight\":{\"value\":1.0},\"line_alpha\":{\"value\":1.0},\"line_cap\":{\"value\":\"butt\"},\"line_color\":{\"value\":\"black\"},\"line_dash\":{\"value\":[]},\"line_dash_offset\":{\"value\":0},\"line_join\":{\"value\":\"bevel\"},\"line_width\":{\"value\":1},\"top\":{\"field\":\"top\"},\"width\":{\"value\":0.7},\"x\":{\"field\":\"index\"}},\"id\":\"1783\",\"type\":\"VBar\"},{\"attributes\":{\"fill_color\":{\"value\":\"black\"},\"x\":{\"field\":\"index\"},\"y\":{\"field\":\"value\"}},\"id\":\"1708\",\"type\":\"Circle\"},{\"attributes\":{},\"id\":\"1766\",\"type\":\"UnionRenderers\"},{\"attributes\":{\"bottom\":{\"field\":\"bottom\"},\"fill_alpha\":{\"value\":1.0},\"fill_color\":{\"value\":\"#30a2da\"},\"hatch_alpha\":{\"value\":1.0},\"hatch_color\":{\"value\":\"black\"},\"hatch_scale\":{\"value\":12.0},\"hatch_weight\":{\"value\":1.0},\"line_alpha\":{\"value\":1.0},\"line_cap\":{\"value\":\"butt\"},\"line_color\":{\"value\":\"black\"},\"line_dash\":{\"value\":[]},\"line_dash_offset\":{\"value\":0},\"line_join\":{\"value\":\"bevel\"},\"line_width\":{\"value\":1},\"top\":{\"field\":\"top\"},\"width\":{\"value\":0.7},\"x\":{\"field\":\"index\"}},\"id\":\"1775\",\"type\":\"VBar\"},{\"attributes\":{},\"id\":\"1763\",\"type\":\"Selection\"},{\"attributes\":{\"source\":{\"id\":\"1776\"}},\"id\":\"1782\",\"type\":\"CDSView\"},{\"attributes\":{\"line_alpha\":{\"value\":0.1},\"x0\":{\"field\":\"x0\"},\"x1\":{\"field\":\"x1\"},\"y0\":{\"field\":\"y0\"},\"y1\":{\"field\":\"y1\"}},\"id\":\"1717\",\"type\":\"Segment\"},{\"attributes\":{},\"id\":\"1767\",\"type\":\"Selection\"},{\"attributes\":{\"coordinates\":null,\"data_source\":{\"id\":\"1714\"},\"glyph\":{\"id\":\"1716\"},\"group\":null,\"hover_glyph\":null,\"muted_glyph\":{\"id\":\"1718\"},\"nonselection_glyph\":{\"id\":\"1717\"},\"selection_glyph\":{\"id\":\"1721\"},\"view\":{\"id\":\"1720\"}},\"id\":\"1719\",\"type\":\"GlyphRenderer\"},{\"attributes\":{\"x0\":{\"field\":\"x0\"},\"x1\":{\"field\":\"x1\"},\"y0\":{\"field\":\"y0\"},\"y1\":{\"field\":\"y1\"}},\"id\":\"1740\",\"type\":\"Segment\"},{\"attributes\":{\"bottom\":{\"field\":\"bottom\"},\"fill_alpha\":{\"value\":0.2},\"fill_color\":{\"value\":\"#30a2da\"},\"hatch_alpha\":{\"value\":0.2},\"line_alpha\":{\"value\":0.2},\"top\":{\"field\":\"top\"},\"width\":{\"value\":0.7},\"x\":{\"field\":\"index\"}},\"id\":\"1780\",\"type\":\"VBar\"},{\"attributes\":{},\"id\":\"1761\",\"type\":\"Selection\"},{\"attributes\":{\"data\":{\"x0\":[[\"sepal_length\",-0.2],[\"sepal_width\",-0.2],[\"petal_length\",-0.2],[\"petal_width\",-0.2]],\"x1\":[[\"sepal_length\",0.2],[\"sepal_width\",0.2],[\"petal_length\",0.2],[\"petal_width\",0.2]],\"y0\":[4.3,2.2,1.0,0.1],\"y1\":[4.3,2.2,1.0,0.1]},\"selected\":{\"id\":\"1767\"},\"selection_policy\":{\"id\":\"1766\"}},\"id\":\"1730\",\"type\":\"ColumnDataSource\"},{\"attributes\":{\"factors\":[\"sepal_length\",\"sepal_width\",\"petal_length\",\"petal_width\"],\"tags\":[[[\"Variable\",\"Variable\",null]]]},\"id\":\"1676\",\"type\":\"FactorRange\"},{\"attributes\":{},\"id\":\"1810\",\"type\":\"Selection\"},{\"attributes\":{\"x0\":{\"field\":\"x0\"},\"x1\":{\"field\":\"x1\"},\"y0\":{\"field\":\"y0\"},\"y1\":{\"field\":\"y1\"}},\"id\":\"1724\",\"type\":\"Segment\"},{\"attributes\":{},\"id\":\"1694\",\"type\":\"SaveTool\"}],\"root_ids\":[\"1674\"]},\"title\":\"Bokeh Application\",\"version\":\"2.4.3\"}};\n",
       "    var render_items = [{\"docid\":\"ec644a64-fd47-4c17-98e1-5bee39346183\",\"root_ids\":[\"1674\"],\"roots\":{\"1674\":\"93071848-1d56-4a77-96ed-72d52b6b93d4\"}}];\n",
       "    root.Bokeh.embed.embed_items_notebook(docs_json, render_items);\n",
       "  }\n",
       "  if (root.Bokeh !== undefined && root.Bokeh.Panel !== undefined) {\n",
       "    embed_document(root);\n",
       "  } else {\n",
       "    var attempts = 0;\n",
       "    var timer = setInterval(function(root) {\n",
       "      if (root.Bokeh !== undefined && root.Bokeh.Panel !== undefined) {\n",
       "        clearInterval(timer);\n",
       "        embed_document(root);\n",
       "      } else if (document.readyState == \"complete\") {\n",
       "        attempts++;\n",
       "        if (attempts > 200) {\n",
       "          clearInterval(timer);\n",
       "          console.log(\"Bokeh: ERROR: Unable to run BokehJS code because BokehJS library is missing\");\n",
       "        }\n",
       "      }\n",
       "    }, 25, root)\n",
       "  }\n",
       "})(window);</script>"
      ],
      "text/plain": [
       ":BoxWhisker   [Variable]   (value)"
      ]
     },
     "execution_count": 38,
     "metadata": {
      "application/vnd.holoviews_exec.v0+json": {
       "id": "1674"
      }
     },
     "output_type": "execute_result"
    }
   ],
   "source": [
    "#Box and whisker plot\n",
    "data.hvplot.box()"
   ]
  },
  {
   "cell_type": "code",
   "execution_count": 39,
   "metadata": {},
   "outputs": [],
   "source": [
    "from pandas.plotting import scatter_matrix\n"
   ]
  },
  {
   "cell_type": "markdown",
   "metadata": {},
   "source": [
    "## Step 9: Advanced Plots (3D and Hexbin)\n",
    "\n",
    "Task: Create advanced visualizations such as a 3D plot and hexbin plot.\n",
    "\n",
    "Instruction: Create a 3D scatter plot and a hexbin plot to visualize the relationship between petal length and width."
   ]
  },
  {
   "cell_type": "code",
   "execution_count": 41,
   "metadata": {},
   "outputs": [
    {
     "data": {
      "image/png": "[encoded data removed]",
      "text/plain": [
       "<Figure size 640x480 with 1 Axes>"
      ]
     },
     "metadata": {},
     "output_type": "display_data"
    }
   ],
   "source": [
    "#3D scatter plot\n",
    "\n",
    "import matplotlib.pyplot as plt\n",
    "fig = plt.figure()\n",
    "ax = fig.add_subplot(111, projection='3d')\n",
    "\n",
    "# Create a 2D scatter plot in 3D space (z will be constant)\n",
    "ax.scatter(data['petal_length'], data['petal_width'], zs=0, zdir='z', s=20, c='blue', alpha=0.7)\n",
    "\n",
    "# Labels and title\n",
    "ax.set_xlabel('Petal length')\n",
    "ax.set_ylabel('Petal Width')\n",
    "ax.set_zlabel('Z Direction')\n",
    "ax.set_title('3D Scatter plot for 2D data')\n",
    "\n",
    "# Show the plot\n",
    "plt.show()"
   ]
  },
  {
   "cell_type": "code",
   "execution_count": 42,
   "metadata": {},
   "outputs": [
    {
     "data": {},
     "metadata": {},
     "output_type": "display_data"
    },
    {
     "data": {
      "application/vnd.holoviews_exec.v0+json": "",
      "text/html": [
       "<div id='1924'>\n",
       "  <div class=\"bk-root\" id=\"d01847c1-c091-4116-8984-05e889fc77e6\" data-root-id=\"1924\"></div>\n",
       "</div>\n",
       "<script type=\"application/javascript\">(function(root) {\n",
       "  function embed_document(root) {\n",
       "    var docs_json = {\"5dfd6db1-c7d9-40b6-bca1-81a6ed9e3d53\":{\"defs\":[{\"extends\":null,\"module\":null,\"name\":\"ReactiveHTML1\",\"overrides\":[],\"properties\":[]},{\"extends\":null,\"module\":null,\"name\":\"FlexBox1\",\"overrides\":[],\"properties\":[{\"default\":\"flex-start\",\"kind\":null,\"name\":\"align_content\"},{\"default\":\"flex-start\",\"kind\":null,\"name\":\"align_items\"},{\"default\":\"row\",\"kind\":null,\"name\":\"flex_direction\"},{\"default\":\"wrap\",\"kind\":null,\"name\":\"flex_wrap\"},{\"default\":\"flex-start\",\"kind\":null,\"name\":\"justify_content\"}]},{\"extends\":null,\"module\":null,\"name\":\"GridStack1\",\"overrides\":[],\"properties\":[{\"default\":\"warn\",\"kind\":null,\"name\":\"mode\"},{\"default\":null,\"kind\":null,\"name\":\"ncols\"},{\"default\":null,\"kind\":null,\"name\":\"nrows\"},{\"default\":true,\"kind\":null,\"name\":\"allow_resize\"},{\"default\":true,\"kind\":null,\"name\":\"allow_drag\"},{\"default\":[],\"kind\":null,\"name\":\"state\"}]},{\"extends\":null,\"module\":null,\"name\":\"click1\",\"overrides\":[],\"properties\":[{\"default\":\"\",\"kind\":null,\"name\":\"terminal_output\"},{\"default\":\"\",\"kind\":null,\"name\":\"debug_name\"},{\"default\":0,\"kind\":null,\"name\":\"clears\"}]},{\"extends\":null,\"module\":null,\"name\":\"NotificationAreaBase1\",\"overrides\":[],\"properties\":[{\"default\":\"bottom-right\",\"kind\":null,\"name\":\"position\"},{\"default\":0,\"kind\":null,\"name\":\"_clear\"}]},{\"extends\":null,\"module\":null,\"name\":\"NotificationArea1\",\"overrides\":[],\"properties\":[{\"default\":[],\"kind\":null,\"name\":\"notifications\"},{\"default\":\"bottom-right\",\"kind\":null,\"name\":\"position\"},{\"default\":0,\"kind\":null,\"name\":\"_clear\"},{\"default\":[{\"background\":\"#ffc107\",\"icon\":{\"className\":\"fas fa-exclamation-triangle\",\"color\":\"white\",\"tagName\":\"i\"},\"type\":\"warning\"},{\"background\":\"#007bff\",\"icon\":{\"className\":\"fas fa-info-circle\",\"color\":\"white\",\"tagName\":\"i\"},\"type\":\"info\"}],\"kind\":null,\"name\":\"types\"}]},{\"extends\":null,\"module\":null,\"name\":\"Notification\",\"overrides\":[],\"properties\":[{\"default\":null,\"kind\":null,\"name\":\"background\"},{\"default\":3000,\"kind\":null,\"name\":\"duration\"},{\"default\":null,\"kind\":null,\"name\":\"icon\"},{\"default\":\"\",\"kind\":null,\"name\":\"message\"},{\"default\":null,\"kind\":null,\"name\":\"notification_type\"},{\"default\":false,\"kind\":null,\"name\":\"_destroyed\"}]},{\"extends\":null,\"module\":null,\"name\":\"TemplateActions1\",\"overrides\":[],\"properties\":[{\"default\":0,\"kind\":null,\"name\":\"open_modal\"},{\"default\":0,\"kind\":null,\"name\":\"close_modal\"}]},{\"extends\":null,\"module\":null,\"name\":\"MaterialTemplateActions1\",\"overrides\":[],\"properties\":[{\"default\":0,\"kind\":null,\"name\":\"open_modal\"},{\"default\":0,\"kind\":null,\"name\":\"close_modal\"}]}],\"roots\":{\"references\":[{\"attributes\":{},\"id\":\"1961\",\"type\":\"Selection\"},{\"attributes\":{\"bar_line_color\":\"black\",\"color_mapper\":{\"id\":\"1959\"},\"coordinates\":null,\"group\":null,\"label_standoff\":8,\"location\":[0,0],\"major_label_policy\":{\"id\":\"1981\"},\"major_tick_line_color\":\"black\",\"ticker\":{\"id\":\"1968\"}},\"id\":\"1969\",\"type\":\"ColorBar\"},{\"attributes\":{},\"id\":\"1934\",\"type\":\"LinearScale\"},{\"attributes\":{\"coordinates\":null,\"group\":null,\"text_color\":\"black\",\"text_font_size\":\"12pt\"},\"id\":\"1930\",\"type\":\"Title\"},{\"attributes\":{\"end\":6.9,\"reset_end\":6.9,\"reset_start\":1.0,\"start\":1.0,\"tags\":[[[\"petal_length\",\"petal_length\",null]]]},\"id\":\"1926\",\"type\":\"Range1d\"},{\"attributes\":{\"aspect_scale\":0.4067796610169492,\"fill_alpha\":{\"value\":1.0},\"fill_color\":{\"field\":\"Count\",\"transform\":{\"id\":\"1959\"}},\"hatch_alpha\":{\"value\":1.0},\"hatch_color\":{\"field\":\"Count\",\"transform\":{\"id\":\"1959\"}},\"hatch_scale\":{\"value\":12.0},\"hatch_weight\":{\"value\":1.0},\"line_alpha\":{\"value\":1.0},\"line_cap\":{\"value\":\"butt\"},\"line_color\":{\"field\":\"Count\",\"transform\":{\"id\":\"1959\"}},\"line_dash\":{\"value\":[]},\"line_dash_offset\":{\"value\":0},\"line_join\":{\"value\":\"bevel\"},\"line_width\":{\"value\":1},\"q\":{\"field\":\"q\"},\"r\":{\"field\":\"r\"},\"scale\":{\"value\":1.0},\"size\":0.032},\"id\":\"1970\",\"type\":\"HexTile\"},{\"attributes\":{},\"id\":\"1985\",\"type\":\"UnionRenderers\"},{\"attributes\":{},\"id\":\"1936\",\"type\":\"LinearScale\"},{\"attributes\":{\"tools\":[{\"id\":\"1928\"},{\"id\":\"1946\"},{\"id\":\"1947\"},{\"id\":\"1948\"},{\"id\":\"1949\"},{\"id\":\"1950\"}]},\"id\":\"1952\",\"type\":\"Toolbar\"},{\"attributes\":{\"bottom_units\":\"screen\",\"coordinates\":null,\"fill_alpha\":0.5,\"fill_color\":\"lightgrey\",\"group\":null,\"left_units\":\"screen\",\"level\":\"overlay\",\"line_alpha\":1.0,\"line_color\":\"black\",\"line_dash\":[4,4],\"line_width\":2,\"right_units\":\"screen\",\"syncable\":false,\"top_units\":\"screen\"},\"id\":\"1951\",\"type\":\"BoxAnnotation\"},{\"attributes\":{},\"id\":\"1939\",\"type\":\"BasicTicker\"},{\"attributes\":{\"coordinates\":null,\"data_source\":{\"id\":\"1960\"},\"glyph\":{\"id\":\"1963\"},\"group\":null,\"hover_glyph\":null,\"muted_glyph\":{\"id\":\"1965\"},\"nonselection_glyph\":{\"id\":\"1964\"},\"selection_glyph\":{\"id\":\"1970\"},\"view\":{\"id\":\"1967\"}},\"id\":\"1966\",\"type\":\"GlyphRenderer\"},{\"attributes\":{\"axis_label\":\"petal_length\",\"coordinates\":null,\"formatter\":{\"id\":\"1972\"},\"group\":null,\"major_label_policy\":{\"id\":\"1973\"},\"ticker\":{\"id\":\"1939\"}},\"id\":\"1938\",\"type\":\"LinearAxis\"},{\"attributes\":{},\"id\":\"1973\",\"type\":\"AllLabels\"},{\"attributes\":{\"aspect_scale\":0.4067796610169492,\"fill_alpha\":{\"value\":0.1},\"fill_color\":{\"field\":\"Count\",\"transform\":{\"id\":\"1959\"}},\"hatch_alpha\":{\"value\":0.1},\"hatch_color\":{\"field\":\"Count\",\"transform\":{\"id\":\"1959\"}},\"line_alpha\":{\"value\":0.1},\"line_color\":{\"field\":\"Count\",\"transform\":{\"id\":\"1959\"}},\"q\":{\"field\":\"q\"},\"r\":{\"field\":\"r\"},\"size\":0.032},\"id\":\"1964\",\"type\":\"HexTile\"},{\"attributes\":{},\"id\":\"1946\",\"type\":\"SaveTool\"},{\"attributes\":{\"source\":{\"id\":\"1960\"}},\"id\":\"1967\",\"type\":\"CDSView\"},{\"attributes\":{\"below\":[{\"id\":\"1938\"}],\"center\":[{\"id\":\"1941\"},{\"id\":\"1945\"}],\"height\":500,\"left\":[{\"id\":\"1942\"}],\"margin\":[5,5,5,5],\"min_border_bottom\":10,\"min_border_left\":10,\"min_border_right\":10,\"min_border_top\":10,\"renderers\":[{\"id\":\"1966\"}],\"right\":[{\"id\":\"1969\"}],\"sizing_mode\":\"fixed\",\"title\":{\"id\":\"1930\"},\"toolbar\":{\"id\":\"1952\"},\"x_range\":{\"id\":\"1926\"},\"x_scale\":{\"id\":\"1934\"},\"y_range\":{\"id\":\"1927\"},\"y_scale\":{\"id\":\"1936\"}},\"id\":\"1929\",\"subtype\":\"Figure\",\"type\":\"Plot\"},{\"attributes\":{},\"id\":\"1981\",\"type\":\"NoOverlap\"},{\"attributes\":{},\"id\":\"1968\",\"type\":\"LogTicker\"},{\"attributes\":{\"aspect_scale\":0.4067796610169492,\"fill_alpha\":{\"value\":0.2},\"fill_color\":{\"field\":\"Count\",\"transform\":{\"id\":\"1959\"}},\"hatch_alpha\":{\"value\":0.2},\"hatch_color\":{\"field\":\"Count\",\"transform\":{\"id\":\"1959\"}},\"line_alpha\":{\"value\":0.2},\"line_color\":{\"field\":\"Count\",\"transform\":{\"id\":\"1959\"}},\"q\":{\"field\":\"q\"},\"r\":{\"field\":\"r\"},\"size\":0.032},\"id\":\"1965\",\"type\":\"HexTile\"},{\"attributes\":{\"data\":{\"Count\":[12,6,2,5,4,6,1,1,2,3,1,1,1,1,1,1,1,1,6,2,3,2,2,2,1,1,2,1,1,1,2,1,1,3,1,2,1,1,1,1,1,1,1,1,1,4,1,1,1,1,1,2,1,1,1,1,1,1,1,1,1,2,1,2,1,1,2,1,1,1,1,1,2,1,1,1,1,1,1,1,1,1,1,1,2,1,1,1,1,1,1,1,1],\"q\":[12,13,16,13,12,14,9,11,11,15,14,14,15,9,18,16,18,18,49,49,43,51,47,35,51,43,36,46,40,40,47,41,40,54,47,45,50,54,38,39,41,54,50,46,50,44,45,48,42,43,34,57,70,60,65,66,70,51,65,61,71,58,59,62,62,63,59,72,52,75,57,66,55,70,63,64,59,63,65,68,53,64,56,69,66,61,67,62,68,57,59,56,64],\"r\":[-4,-4,-8,-6,-2,-4,-2,-2,-4,-8,-8,-6,-6,-4,-11,-4,-13,-8,-31,-29,-27,-31,-27,-21,-33,-29,-21,-31,-21,-27,-29,-21,-23,-38,-25,-27,-29,-35,-21,-23,-25,-33,-33,-27,-31,-27,-25,-29,-25,-25,-23,-39,-52,-38,-44,-46,-44,-36,-38,-37,-52,-42,-40,-44,-50,-48,-37,-46,-31,-48,-42,-48,-38,-42,-38,-44,-33,-44,-40,-42,-31,-46,-29,-48,-50,-48,-48,-48,-52,-40,-42,-37,-48]},\"selected\":{\"id\":\"1961\"},\"selection_policy\":{\"id\":\"1985\"}},\"id\":\"1960\",\"type\":\"ColumnDataSource\"},{\"attributes\":{\"margin\":[5,5,5,5],\"name\":\"HSpacer01792\",\"sizing_mode\":\"stretch_width\"},\"id\":\"1925\",\"type\":\"Spacer\"},{\"attributes\":{\"end\":2.74,\"reset_end\":2.74,\"reset_start\":-0.13999999999999999,\"start\":-0.13999999999999999,\"tags\":[[[\"petal_width\",\"petal_width\",null]]]},\"id\":\"1927\",\"type\":\"Range1d\"},{\"attributes\":{},\"id\":\"1948\",\"type\":\"WheelZoomTool\"},{\"attributes\":{\"margin\":[5,5,5,5],\"name\":\"HSpacer01793\",\"sizing_mode\":\"stretch_width\"},\"id\":\"1988\",\"type\":\"Spacer\"},{\"attributes\":{},\"id\":\"1950\",\"type\":\"ResetTool\"},{\"attributes\":{},\"id\":\"1976\",\"type\":\"AllLabels\"},{\"attributes\":{\"axis_label\":\"petal_width\",\"coordinates\":null,\"formatter\":{\"id\":\"1975\"},\"group\":null,\"major_label_policy\":{\"id\":\"1976\"},\"ticker\":{\"id\":\"1943\"}},\"id\":\"1942\",\"type\":\"LinearAxis\"},{\"attributes\":{},\"id\":\"1947\",\"type\":\"PanTool\"},{\"attributes\":{\"callback\":null,\"renderers\":[{\"id\":\"1966\"}],\"tags\":[\"hv_created\"],\"tooltips\":[[\"Count\",\"@{Count}\"]]},\"id\":\"1928\",\"type\":\"HoverTool\"},{\"attributes\":{\"axis\":{\"id\":\"1938\"},\"coordinates\":null,\"grid_line_color\":null,\"group\":null,\"ticker\":null},\"id\":\"1941\",\"type\":\"Grid\"},{\"attributes\":{\"high\":12,\"low\":1,\"palette\":[\"#000003\",\"#000004\",\"#000006\",\"#010007\",\"#010109\",\"#01010b\",\"#02010e\",\"#020210\",\"#030212\",\"#040314\",\"#040316\",\"#050418\",\"#06041b\",\"#07051d\",\"#08061f\",\"#090621\",\"#0a0723\",\"#0b0726\",\"#0d0828\",\"#0e082a\",\"#0f092d\",\"#10092f\",\"#120a32\",\"#130a34\",\"#140b36\",\"#160b39\",\"#170b3b\",\"#190b3e\",\"#1a0b40\",\"#1c0c43\",\"#1d0c45\",\"#1f0c47\",\"#200c4a\",\"#220b4c\",\"#240b4e\",\"#260b50\",\"#270b52\",\"#290b54\",\"#2b0a56\",\"#2d0a58\",\"#2e0a5a\",\"#300a5c\",\"#32095d\",\"#34095f\",\"#350960\",\"#370961\",\"#390962\",\"#3b0964\",\"#3c0965\",\"#3e0966\",\"#400966\",\"#410967\",\"#430a68\",\"#450a69\",\"#460a69\",\"#480b6a\",\"#4a0b6a\",\"#4b0c6b\",\"#4d0c6b\",\"#4f0d6c\",\"#500d6c\",\"#520e6c\",\"#530e6d\",\"#550f6d\",\"#570f6d\",\"#58106d\",\"#5a116d\",\"#5b116e\",\"#5d126e\",\"#5f126e\",\"#60136e\",\"#62146e\",\"#63146e\",\"#65156e\",\"#66156e\",\"#68166e\",\"#6a176e\",\"#6b176e\",\"#6d186e\",\"#6e186e\",\"#70196e\",\"#72196d\",\"#731a6d\",\"#751b6d\",\"#761b6d\",\"#781c6d\",\"#7a1c6d\",\"#7b1d6c\",\"#7d1d6c\",\"#7e1e6c\",\"#801f6b\",\"#811f6b\",\"#83206b\",\"#85206a\",\"#86216a\",\"#88216a\",\"#892269\",\"#8b2269\",\"#8d2369\",\"#8e2468\",\"#902468\",\"#912567\",\"#932567\",\"#952666\",\"#962666\",\"#982765\",\"#992864\",\"#9b2864\",\"#9c2963\",\"#9e2963\",\"#a02a62\",\"#a12b61\",\"#a32b61\",\"#a42c60\",\"#a62c5f\",\"#a72d5f\",\"#a92e5e\",\"#ab2e5d\",\"#ac2f5c\",\"#ae305b\",\"#af315b\",\"#b1315a\",\"#b23259\",\"#b43358\",\"#b53357\",\"#b73456\",\"#b83556\",\"#ba3655\",\"#bb3754\",\"#bd3753\",\"#be3852\",\"#bf3951\",\"#c13a50\",\"#c23b4f\",\"#c43c4e\",\"#c53d4d\",\"#c73e4c\",\"#c83e4b\",\"#c93f4a\",\"#cb4049\",\"#cc4148\",\"#cd4247\",\"#cf4446\",\"#d04544\",\"#d14643\",\"#d24742\",\"#d44841\",\"#d54940\",\"#d64a3f\",\"#d74b3e\",\"#d94d3d\",\"#da4e3b\",\"#db4f3a\",\"#dc5039\",\"#dd5238\",\"#de5337\",\"#df5436\",\"#e05634\",\"#e25733\",\"#e35832\",\"#e45a31\",\"#e55b30\",\"#e65c2e\",\"#e65e2d\",\"#e75f2c\",\"#e8612b\",\"#e9622a\",\"#ea6428\",\"#eb6527\",\"#ec6726\",\"#ed6825\",\"#ed6a23\",\"#ee6c22\",\"#ef6d21\",\"#f06f1f\",\"#f0701e\",\"#f1721d\",\"#f2741c\",\"#f2751a\",\"#f37719\",\"#f37918\",\"#f47a16\",\"#f57c15\",\"#f57e14\",\"#f68012\",\"#f68111\",\"#f78310\",\"#f7850e\",\"#f8870d\",\"#f8880c\",\"#f88a0b\",\"#f98c09\",\"#f98e08\",\"#f99008\",\"#fa9107\",\"#fa9306\",\"#fa9506\",\"#fa9706\",\"#fb9906\",\"#fb9b06\",\"#fb9d06\",\"#fb9e07\",\"#fba007\",\"#fba208\",\"#fba40a\",\"#fba60b\",\"#fba80d\",\"#fbaa0e\",\"#fbac10\",\"#fbae12\",\"#fbb014\",\"#fbb116\",\"#fbb318\",\"#fbb51a\",\"#fbb71c\",\"#fbb91e\",\"#fabb21\",\"#fabd23\",\"#fabf25\",\"#fac128\",\"#f9c32a\",\"#f9c52c\",\"#f9c72f\",\"#f8c931\",\"#f8cb34\",\"#f8cd37\",\"#f7cf3a\",\"#f7d13c\",\"#f6d33f\",\"#f6d542\",\"#f5d745\",\"#f5d948\",\"#f4db4b\",\"#f4dc4f\",\"#f3de52\",\"#f3e056\",\"#f3e259\",\"#f2e45d\",\"#f2e660\",\"#f1e864\",\"#f1e968\",\"#f1eb6c\",\"#f1ed70\",\"#f1ee74\",\"#f1f079\",\"#f1f27d\",\"#f2f381\",\"#f2f485\",\"#f3f689\",\"#f4f78d\",\"#f5f891\",\"#f6fa95\",\"#f7fb99\",\"#f9fc9d\",\"#fafda0\",\"#fcfea4\"]},\"id\":\"1959\",\"type\":\"LogColorMapper\"},{\"attributes\":{\"children\":[{\"id\":\"1925\"},{\"id\":\"1929\"},{\"id\":\"1988\"}],\"margin\":[0,0,0,0],\"name\":\"Row01788\",\"tags\":[\"embedded\"]},\"id\":\"1924\",\"type\":\"Row\"},{\"attributes\":{\"aspect_scale\":0.4067796610169492,\"fill_color\":{\"field\":\"Count\",\"transform\":{\"id\":\"1959\"}},\"hatch_color\":{\"field\":\"Count\",\"transform\":{\"id\":\"1959\"}},\"line_color\":{\"field\":\"Count\",\"transform\":{\"id\":\"1959\"}},\"q\":{\"field\":\"q\"},\"r\":{\"field\":\"r\"},\"size\":0.032},\"id\":\"1963\",\"type\":\"HexTile\"},{\"attributes\":{},\"id\":\"1975\",\"type\":\"BasicTickFormatter\"},{\"attributes\":{\"overlay\":{\"id\":\"1951\"}},\"id\":\"1949\",\"type\":\"BoxZoomTool\"},{\"attributes\":{},\"id\":\"1972\",\"type\":\"BasicTickFormatter\"},{\"attributes\":{},\"id\":\"1943\",\"type\":\"BasicTicker\"},{\"attributes\":{\"axis\":{\"id\":\"1942\"},\"coordinates\":null,\"dimension\":1,\"grid_line_color\":null,\"group\":null,\"ticker\":null},\"id\":\"1945\",\"type\":\"Grid\"}],\"root_ids\":[\"1924\"]},\"title\":\"Bokeh Application\",\"version\":\"2.4.3\"}};\n",
       "    var render_items = [{\"docid\":\"5dfd6db1-c7d9-40b6-bca1-81a6ed9e3d53\",\"root_ids\":[\"1924\"],\"roots\":{\"1924\":\"d01847c1-c091-4116-8984-05e889fc77e6\"}}];\n",
       "    root.Bokeh.embed.embed_items_notebook(docs_json, render_items);\n",
       "  }\n",
       "  if (root.Bokeh !== undefined && root.Bokeh.Panel !== undefined) {\n",
       "    embed_document(root);\n",
       "  } else {\n",
       "    var attempts = 0;\n",
       "    var timer = setInterval(function(root) {\n",
       "      if (root.Bokeh !== undefined && root.Bokeh.Panel !== undefined) {\n",
       "        clearInterval(timer);\n",
       "        embed_document(root);\n",
       "      } else if (document.readyState == \"complete\") {\n",
       "        attempts++;\n",
       "        if (attempts > 200) {\n",
       "          clearInterval(timer);\n",
       "          console.log(\"Bokeh: ERROR: Unable to run BokehJS code because BokehJS library is missing\");\n",
       "        }\n",
       "      }\n",
       "    }, 25, root)\n",
       "  }\n",
       "})(window);</script>"
      ],
      "text/plain": [
       ":HexTiles   [petal_length,petal_width]"
      ]
     },
     "execution_count": 42,
     "metadata": {
      "application/vnd.holoviews_exec.v0+json": {
       "id": "1924"
      }
     },
     "output_type": "execute_result"
    }
   ],
   "source": [
    "#Hexagon Bin\n",
    "data.hvplot.hexbin(x='petal_length',y = 'petal_width', width=600, height=500, logz=True,cmap='inferno')"
   ]
  },
  {
   "cell_type": "markdown",
   "metadata": {},
   "source": [
    "## Final Step: Closing the Dask Client\n",
    "\n",
    "Task: Properly close the Dask Client when done.\n",
    "\n",
    "Instruction: Always remember to close the Dask Client when you're finished with the tasks."
   ]
  },
  {
   "cell_type": "code",
   "execution_count": null,
   "metadata": {},
   "outputs": [],
   "source": [
    "client.shutdown()  "
   ]
  },
  {
   "cell_type": "code",
   "execution_count": null,
   "metadata": {},
   "outputs": [],
   "source": []
  }
 ],
 "metadata": {
  "kernelspec": {
   "display_name": "Python",
   "language": "python",
   "name": "python3"
  },
  "language_info": {
   "codemirror_mode": {
    "name": "ipython",
    "version": 3
   },
   "file_extension": ".py",
   "mimetype": "text/x-python",
   "name": "python",
   "nbconvert_exporter": "python",
   "pygments_lexer": "ipython3",
   "version": "3.8.10"
  }
 },
 "nbformat": 4,
 "nbformat_minor": 4
}
